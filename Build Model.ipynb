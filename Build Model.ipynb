{
 "cells": [
  {
   "cell_type": "code",
   "execution_count": 1,
   "metadata": {},
   "outputs": [
    {
     "name": "stderr",
     "output_type": "stream",
     "text": [
      "/anaconda3/lib/python3.6/site-packages/sklearn/ensemble/weight_boosting.py:29: DeprecationWarning: numpy.core.umath_tests is an internal NumPy module and should not be imported. It will be removed in a future NumPy release.\n",
      "  from numpy.core.umath_tests import inner1d\n",
      "/anaconda3/lib/python3.6/site-packages/h5py/__init__.py:36: FutureWarning: Conversion of the second argument of issubdtype from `float` to `np.floating` is deprecated. In future, it will be treated as `np.float64 == np.dtype(float).type`.\n",
      "  from ._conv import register_converters as _register_converters\n",
      "Using TensorFlow backend.\n"
     ]
    },
    {
     "name": "stdout",
     "output_type": "stream",
     "text": [
      "Couldn't import dot_parser, loading of dot files will not be possible.\n"
     ]
    }
   ],
   "source": [
    "import pandas as pd\n",
    "import math\n",
    "import numpy as np\n",
    "import statsmodels.api as sm\n",
    "import matplotlib.pyplot as plt\n",
    "from datetime import datetime\n",
    "from sklearn import metrics\n",
    "from sklearn.metrics import mean_squared_error, accuracy_score\n",
    "from sklearn.model_selection import cross_val_score, GridSearchCV, LeaveOneOut, StratifiedKFold\n",
    "from sklearn.tree import DecisionTreeClassifier\n",
    "from sklearn.ensemble import RandomForestClassifier,AdaBoostClassifier, GradientBoostingClassifier\n",
    "from sklearn.linear_model import LogisticRegression\n",
    "from sklearn.neighbors import KNeighborsClassifier\n",
    "from sklearn.preprocessing import StandardScaler\n",
    "from keras.models import Sequential\n",
    "from keras.layers import Dense\n",
    "from imblearn.over_sampling import SMOTE\n",
    "\n",
    "%matplotlib inline"
   ]
  },
  {
   "cell_type": "code",
   "execution_count": 2,
   "metadata": {},
   "outputs": [],
   "source": [
    "df = pd.read_excel('./Data/File1.xlsx')"
   ]
  },
  {
   "cell_type": "markdown",
   "metadata": {},
   "source": [
    "## Feature Engineering\n",
    "\n",
    "---\n",
    "\n",
    "In my discussions with my SME there were two fields that were very important in helping to determine if someone will repay their loan.\n",
    "\n",
    "- OOS Date: This is the out of statute date, which is the last date any litigation can be brought. The further away from this date the more likely you are to collect. I subtracted the date this portfolio was purchased from this date to get that number\n",
    "- Cycle: This is the number of times the loan have been sent out for collection. Typically the fewer times collection attempts the more likely you are to collect."
   ]
  },
  {
   "cell_type": "code",
   "execution_count": 3,
   "metadata": {},
   "outputs": [],
   "source": [
    "# Date the protfolio was purchased\n",
    "purchased_dt = pd.to_datetime('10/24/2008')\n",
    "\n",
    "# Calculate the days until Out of Statute\n",
    "df['OOS Days Left'] = df['OOS Date'] - purchased_dt\n",
    "df['OOS Days Left int'] = 0\n",
    "\n",
    "for i, _ in df.iterrows():\n",
    "    days = df.iloc[i]['OOS Days Left'].days\n",
    "    df.iloc[i,29] = days"
   ]
  },
  {
   "cell_type": "code",
   "execution_count": 4,
   "metadata": {
    "scrolled": true
   },
   "outputs": [
    {
     "data": {
      "text/plain": [
       "Index(['Account Number', 'PortID', 'Remaining Balance', 'interests Fees',\n",
       "       'Date Opened', 'Charge Off Date', 'Last Pay Date', 'Last Pay Amount',\n",
       "       'Last Activity Date', 'Interest Rate %', 'Issuer', 'Merchant',\n",
       "       'FCFRA Date', 'OOS Date', 'Account Type', 'Last Name', 'First Name',\n",
       "       'Middle Name', 'Address', 'City', 'State', 'Zip', 'County', 'SSN',\n",
       "       'Home Phone', 'Employer Phone', 'Paid', 'OOS Days Left',\n",
       "       'OOS Days Left int', 'Cycle_QUATERNARY', 'Cycle_SECONDARY',\n",
       "       'Cycle_TERTIARY'],\n",
       "      dtype='object')"
      ]
     },
     "execution_count": 4,
     "metadata": {},
     "output_type": "execute_result"
    }
   ],
   "source": [
    "# Dummy up the Cycle as this is an important feature\n",
    "df = pd.get_dummies(df, columns = ['Cycle'])\n",
    "df.columns"
   ]
  },
  {
   "cell_type": "markdown",
   "metadata": {},
   "source": [
    "## Write out the cleaned data"
   ]
  },
  {
   "cell_type": "code",
   "execution_count": 5,
   "metadata": {},
   "outputs": [],
   "source": [
    "# Write out the new .csv file\n",
    "df.to_csv(\"./Data/cleaned.csv\", index=False)"
   ]
  },
  {
   "cell_type": "markdown",
   "metadata": {},
   "source": [
    "## Creating the features for the model\n",
    "In my discussions with my SME there are 6 features that will be the best in determining the likelihood of someone repaying their loan.\n",
    "\n",
    "- Remaining Balance\n",
    "- Interest Rate %\n",
    "- interests Fees\n",
    "- Last Pay Amount\n",
    "- OOS Date: I'll use the number of day until that date which I calculated above\n",
    "- Cycle: I'll use the dummies that I created above\n"
   ]
  },
  {
   "cell_type": "code",
   "execution_count": 6,
   "metadata": {},
   "outputs": [],
   "source": [
    "num_cols = df.columns[[np.issubdtype(dt, np.number) for dt in df.dtypes]]\n",
    "\n",
    "drop_cols = [key for key in dict(df.dtypes) \n",
    "                if dict(df.dtypes)[key] in ['datetime64[ns]', 'object']]\n",
    "\n",
    "# Add others to drop list\n",
    "drop_cols.extend(('Paid','Account Number','SSN','Home Phone',\n",
    "                  'Employer Phone','OOS Days Left'))"
   ]
  },
  {
   "cell_type": "code",
   "execution_count": 7,
   "metadata": {},
   "outputs": [
    {
     "data": {
      "text/plain": [
       "Index(['Account Number', 'Remaining Balance', 'interests Fees',\n",
       "       'Last Pay Amount', 'Interest Rate %', 'SSN', 'Home Phone',\n",
       "       'Employer Phone', 'Paid', 'OOS Days Left', 'OOS Days Left int',\n",
       "       'Cycle_QUATERNARY', 'Cycle_SECONDARY', 'Cycle_TERTIARY'],\n",
       "      dtype='object')"
      ]
     },
     "execution_count": 7,
     "metadata": {},
     "output_type": "execute_result"
    }
   ],
   "source": [
    "num_cols"
   ]
  },
  {
   "cell_type": "code",
   "execution_count": 8,
   "metadata": {},
   "outputs": [
    {
     "data": {
      "text/plain": [
       "['PortID',\n",
       " 'Date Opened',\n",
       " 'Charge Off Date',\n",
       " 'Last Pay Date',\n",
       " 'Last Activity Date',\n",
       " 'Issuer',\n",
       " 'Merchant',\n",
       " 'FCFRA Date',\n",
       " 'OOS Date',\n",
       " 'Account Type',\n",
       " 'Last Name',\n",
       " 'First Name',\n",
       " 'Middle Name',\n",
       " 'Address',\n",
       " 'City',\n",
       " 'State',\n",
       " 'Zip',\n",
       " 'County',\n",
       " 'Paid',\n",
       " 'Account Number',\n",
       " 'SSN',\n",
       " 'Home Phone',\n",
       " 'Employer Phone',\n",
       " 'OOS Days Left']"
      ]
     },
     "execution_count": 8,
     "metadata": {},
     "output_type": "execute_result"
    }
   ],
   "source": [
    "drop_cols"
   ]
  },
  {
   "cell_type": "markdown",
   "metadata": {},
   "source": [
    "## Getting Ready To Model"
   ]
  },
  {
   "cell_type": "code",
   "execution_count": 9,
   "metadata": {},
   "outputs": [],
   "source": [
    "y = df['Paid']\n",
    "X = df.drop(columns = drop_cols)\n",
    "X_col = X"
   ]
  },
  {
   "cell_type": "markdown",
   "metadata": {},
   "source": [
    "### Gridsearch Function\n",
    "Looking for the best hyperparameters for the passed in model"
   ]
  },
  {
   "cell_type": "code",
   "execution_count": 10,
   "metadata": {},
   "outputs": [],
   "source": [
    "def build_model(model, model_params, X, y):\n",
    "    loocv = LeaveOneOut()\n",
    "    model = model\n",
    "    \n",
    "    gs = GridSearchCV(model, param_grid=model_params, cv=loocv, n_jobs=3)\n",
    "    gs.fit(X, y);\n",
    "\n",
    "    print('Best parameters',gs.best_params_)\n",
    "\n",
    "    # Model Accuracy, how often is the classifier correct\n",
    "    accuracy = gs.score(X, y)\n",
    "    print('Score: %.2f%%' % (accuracy * 100.0))"
   ]
  },
  {
   "cell_type": "markdown",
   "metadata": {},
   "source": [
    "### LeaveOneOut Function\n",
    "Because the dataset is very small I'm using the leave one out method for training and testing. This function also prints out the metric scores and plots the ROC curve."
   ]
  },
  {
   "cell_type": "code",
   "execution_count": 45,
   "metadata": {},
   "outputs": [],
   "source": [
    "def leave_one_out(algr, X, y):\n",
    "    loocv = LeaveOneOut()\n",
    "        \n",
    "    for train_index, test_index in loocv.split(X, y):\n",
    "        X_train, X_test = X[train_index], X[test_index]\n",
    "        y_train, y_test = y[train_index], y[test_index]\n",
    "        \n",
    "        model = algr.fit(X_train, y_train)\n",
    "        \n",
    "        y_train_pred = model.predict(X_train)\n",
    "        y_test_pred = model.predict(X_test)\n",
    "        \n",
    "    accuracy = metrics.accuracy_score(y_train, y_train_pred)\n",
    "    print('Train Accuracy: %.2f%%' % (accuracy * 100.0))\n",
    "\n",
    "    precision = metrics.precision_score(y_train, y_train_pred)\n",
    "    print('Train Precision: %.2f%%' % (precision * 100.0))\n",
    "\n",
    "    recall = metrics.recall_score(y_train, y_train_pred)\n",
    "    print('Train Recall: %.2f%%' % (recall * 100.0))\n",
    "    \n",
    "    \n",
    "    accuracy = metrics.accuracy_score(y_test, y_test_pred)\n",
    "    print('Test Accuracy: %.2f%%' % (accuracy * 100.0))\n",
    "\n",
    "    precision = metrics.precision_score(y_test, y_test_pred)\n",
    "    print('Test Precision: %.2f%%' % (precision * 100.0))\n",
    "\n",
    "    recall = metrics.recall_score(y_test, y_test_pred)\n",
    "    print('Test Recall: %.2f%%' % (recall * 100.0))\n",
    "    \n",
    "    \n",
    "    cvs = cross_val_score(algr, X, y, cv=loocv)\n",
    "    print(\"Cross Validation Score: %.2f%%\" % (cvs.mean()*100.0))\n",
    "\n",
    "    y_pred_proba = algr.predict_proba(X)[::,1]\n",
    "\n",
    "\n",
    "    fpr, tpr, thresholds = metrics.roc_curve(y, y_pred_proba)\n",
    "\n",
    "    roc_auc = metrics.auc(fpr,tpr)\n",
    "\n",
    "    # Plot ROC\n",
    "    plt.title('Receiver Operating Characteristic')\n",
    "    plt.plot(fpr, tpr, 'b',label='AUC = %0.3f'% roc_auc)\n",
    "    plt.legend(loc='lower right')\n",
    "    plt.plot([0,1],[0,1],'r--')\n",
    "    plt.xlim([-0.1,1.0])\n",
    "    plt.ylim([-0.1,1.01])\n",
    "    plt.ylabel('True Positive Rate')\n",
    "    plt.xlabel('False Positive Rate')"
   ]
  },
  {
   "cell_type": "markdown",
   "metadata": {},
   "source": [
    "### Stratified K-fold Cross Validation Function\n",
    "Stratification is the process of rearranging the data so as to ensure that each fold is a good representative of the whole. For example, in a binary classification problem where each class comprises of 50% of the data, it is best to arrange the data such that in every fold, each class comprises of about half the instances.\n",
    "\n",
    "Because the data set is small this will Randomly split your entire dataset into k”folds” with each class comprising 50% of the data."
   ]
  },
  {
   "cell_type": "code",
   "execution_count": 12,
   "metadata": {},
   "outputs": [],
   "source": [
    "def skfcv(model, X, y):\n",
    "    skf_score = []\n",
    "\n",
    "    skf = StratifiedKFold(n_splits=sum(y==1), random_state=None)\n",
    "\n",
    "    for train_index, test_index in skf.split(X,y): \n",
    "\n",
    "        X_train_fold, X_test_fold = X[train_index], X[test_index] \n",
    "        y_train_fold, y_test_fold = y[train_index], y[test_index]\n",
    "\n",
    "        fold_model = model.fit(X_train_fold, y_train_fold)\n",
    "\n",
    "        skf_score.append(fold_model.score(X_test_fold, y_test_fold))\n",
    "        \n",
    "    print(\"StratifiedKFold Score: %.2f%%\" % (np.mean(skf_score)*100.0))    "
   ]
  },
  {
   "cell_type": "markdown",
   "metadata": {},
   "source": [
    "### SMOTE (Synthetic Minority Over-sampling Technique)\n",
    "Because the dataset out of balanced I'm over sampling the minority class."
   ]
  },
  {
   "cell_type": "code",
   "execution_count": 13,
   "metadata": {},
   "outputs": [
    {
     "name": "stdout",
     "output_type": "stream",
     "text": [
      "Before OverSampling, counts of label '1': 5\n",
      "Before OverSampling, counts of label '0': 37 \n",
      "\n",
      "After OverSampling, the shape of train_X: (74, 8)\n",
      "After OverSampling, the shape of train_y: (74,) \n",
      "\n",
      "After OverSampling, counts of label '1': 37\n",
      "After OverSampling, counts of label '0': 37\n"
     ]
    }
   ],
   "source": [
    "print(\"Before OverSampling, counts of label '1': {}\".format(sum(y==1)))\n",
    "print(\"Before OverSampling, counts of label '0': {} \\n\".format(sum(y==0)))\n",
    "\n",
    "sm = SMOTE(k_neighbors=3,random_state=42)\n",
    "X, y = sm.fit_sample(X, y)\n",
    "\n",
    "print('After OverSampling, the shape of train_X: {}'.format(X.shape))\n",
    "print('After OverSampling, the shape of train_y: {} \\n'.format(y.shape))\n",
    "\n",
    "print(\"After OverSampling, counts of label '1': {}\".format(sum(y==1)))\n",
    "print(\"After OverSampling, counts of label '0': {}\".format(sum(y==0)))"
   ]
  },
  {
   "cell_type": "markdown",
   "metadata": {},
   "source": [
    "## Fitting and making predictions with the Logistic Regression model.\n",
    "\n",
    "---"
   ]
  },
  {
   "cell_type": "markdown",
   "metadata": {},
   "source": [
    "### Gridsearch to find best parameters"
   ]
  },
  {
   "cell_type": "code",
   "execution_count": 14,
   "metadata": {},
   "outputs": [
    {
     "name": "stdout",
     "output_type": "stream",
     "text": [
      "Best parameters {'C': 100, 'class_weight': 'balanced', 'fit_intercept': True, 'penalty': 'l1', 'random_state': 42, 'solver': 'liblinear'}\n",
      "Score: 90.54%\n"
     ]
    }
   ],
   "source": [
    "params = {\n",
    "    'class_weight':['balanced',None],\n",
    "    'fit_intercept':[True,False],\n",
    "    'solver':['liblinear'],\n",
    "    'C':[0.001,0.01,0.1,1,10,100],\n",
    "    'penalty':['l1','l2'],\n",
    "    'random_state':[42],\n",
    "}\n",
    "build_model(LogisticRegression(), params, X, y)"
   ]
  },
  {
   "cell_type": "code",
   "execution_count": 46,
   "metadata": {
    "scrolled": false
   },
   "outputs": [
    {
     "name": "stdout",
     "output_type": "stream",
     "text": [
      "Train Accuracy: 90.41%\n",
      "Train Precision: 89.19%\n",
      "Train Recall: 91.67%\n",
      "Test Accuracy: 100.00%\n",
      "Test Precision: 100.00%\n",
      "Test Recall: 100.00%\n",
      "Cross Validation Score: 86.49%\n",
      "StratifiedKFold Score: 86.49%\n"
     ]
    },
    {
     "data": {
      "image/png": "[encoded data removed]",
      "text/plain": [
       "<Figure size 432x288 with 1 Axes>"
      ]
     },
     "metadata": {},
     "output_type": "display_data"
    }
   ],
   "source": [
    "logreg = LogisticRegression(C=100,\n",
    "                            class_weight='balanced',\n",
    "                            fit_intercept=True,\n",
    "                            penalty='l1',\n",
    "                            solver='liblinear',\n",
    "                            random_state=42\n",
    "                            )\n",
    "\n",
    "leave_one_out(logreg, X, y)\n",
    "skfcv(logreg, X, y)"
   ]
  },
  {
   "cell_type": "markdown",
   "metadata": {},
   "source": [
    "# Logistic Regression Model Evaluation\n",
    "#### Confusion Matrix\n",
    "\n",
    "Let's evaluate the model using model evaluation metrics such as accuracy, precision, and recall.\n",
    "\n",
    "- Accuracy: Classification rate of for the training set was 90.41%. The test set scored 100%.  \n",
    "\n",
    "- Precision: How accurate is your model. In other words, you can say, when a model makes a prediction, how often it is correct. In this case, the training set scored 89.19% and the test was correct 100% of the time.\n",
    "\n",
    "- Recall: If there are debtors who have paid in the training set this model can identify them 91.67% of the time. In the test set it can identify them 100% of the time\n",
    "\n",
    "#### ROC Curve\n",
    "Receiver Operating Characteristic(ROC) curve is a plot of the true positive rate against the false positive rate. It shows the tradeoff between sensitivity and specificity.\n",
    "\n",
    "- AUC score for the case was 0.972. AUC score 1 represents perfect classifier.\n",
    "\n",
    "#### Cross Validation Score\n",
    "The cross validation score was 86.49%\n",
    "\n",
    "#### StratifiedKFold\n",
    "The Stratified KFold Score was 86.49%\n",
    "\n",
    "#### Overall Evaluation\n",
    "Based on all the scores I think that this might be a good model, even though the test set was 100%. The observations from the test set might come from the fact that there is only one observations in that set. However the cross-validation and Stratified KFold scores were very good."
   ]
  },
  {
   "cell_type": "markdown",
   "metadata": {},
   "source": [
    "## Fitting and making predictions with DecisionTreeClassifier model.\n",
    "\n",
    "---"
   ]
  },
  {
   "cell_type": "markdown",
   "metadata": {},
   "source": [
    "### Gridsearch to find best parameters"
   ]
  },
  {
   "cell_type": "code",
   "execution_count": 16,
   "metadata": {},
   "outputs": [
    {
     "name": "stdout",
     "output_type": "stream",
     "text": [
      "Best parameters {'class_weight': 'balanced', 'criterion': 'gini', 'max_depth': 2, 'min_samples_leaf': 1, 'min_samples_split': 0.0001, 'min_weight_fraction_leaf': 0.01, 'random_state': 42, 'splitter': 'best'}\n",
      "Score: 93.24%\n"
     ]
    }
   ],
   "source": [
    "params = {\n",
    "    'criterion':['gini','entropy'],\n",
    "    'splitter':['best','random'],\n",
    "    'class_weight':['balanced',None],\n",
    "    'max_depth':[1,2],\n",
    "    'min_samples_leaf':[1],\n",
    "    'min_samples_split':[0.0001,0.001],\n",
    "    'min_weight_fraction_leaf':[0.01,0.001],\n",
    "    'random_state':[42]\n",
    "}\n",
    "build_model(DecisionTreeClassifier(), params, X, y)"
   ]
  },
  {
   "cell_type": "markdown",
   "metadata": {},
   "source": [
    "### Build model with best parameters"
   ]
  },
  {
   "cell_type": "code",
   "execution_count": 47,
   "metadata": {},
   "outputs": [
    {
     "name": "stdout",
     "output_type": "stream",
     "text": [
      "Train Accuracy: 93.15%\n",
      "Train Precision: 87.80%\n",
      "Train Recall: 100.00%\n",
      "Test Accuracy: 100.00%\n",
      "Test Precision: 100.00%\n",
      "Test Recall: 100.00%\n",
      "Cross Validation Score: 86.49%\n",
      "StratifiedKFold Score: 77.03%\n"
     ]
    },
    {
     "data": {
      "image/png": "[encoded data removed]",
      "text/plain": [
       "<Figure size 432x288 with 1 Axes>"
      ]
     },
     "metadata": {},
     "output_type": "display_data"
    }
   ],
   "source": [
    "dt = DecisionTreeClassifier(class_weight='balanced',\n",
    "                            criterion='gini',\n",
    "                            max_depth=2,\n",
    "                            min_samples_leaf=1,\n",
    "                            min_samples_split=0.0001,\n",
    "                            min_weight_fraction_leaf=0.001,\n",
    "                            random_state=42,\n",
    "                            splitter='best')\n",
    "leave_one_out(dt, X, y)\n",
    "skfcv(dt, X, y)"
   ]
  },
  {
   "cell_type": "markdown",
   "metadata": {},
   "source": [
    "### What are the important features to this model"
   ]
  },
  {
   "cell_type": "code",
   "execution_count": 18,
   "metadata": {},
   "outputs": [
    {
     "data": {
      "text/plain": [
       "<matplotlib.axes._subplots.AxesSubplot at 0x1c2f7b9a20>"
      ]
     },
     "execution_count": 18,
     "metadata": {},
     "output_type": "execute_result"
    },
    {
     "data": {
      "image/png": "[encoded data removed]",
      "text/plain": [
       "<Figure size 432x288 with 1 Axes>"
      ]
     },
     "metadata": {},
     "output_type": "display_data"
    }
   ],
   "source": [
    "# decision trees can give us feature importances. the higher the number the more important\n",
    "# the predictor was to deciding splits at nodes.\n",
    "# \"The importance of a feature is computed as the (normalized) total reduction of the \n",
    "# criterion brought by that feature.\"\n",
    "#\n",
    "feature_importances = dt.feature_importances_\n",
    "\n",
    "importances = list(zip(dt.feature_importances_, X_col.columns))\n",
    "importances.sort(reverse=True)\n",
    "\n",
    "pd.DataFrame(importances, index=[x for (_,x) in importances]).plot(kind = 'bar')"
   ]
  },
  {
   "cell_type": "markdown",
   "metadata": {},
   "source": [
    "### DecisionTreeClassifier Model Evaluation\n",
    "#### Confusion Matrix\n",
    "\n",
    "Let's evaluate the model using model evaluation metrics such as accuracy, precision, and recall.\n",
    "\n",
    "- Accuracy: Classification rate of for the training set was 95.15%. The test set scored 100%.  \n",
    "\n",
    "- Precision: How accurate is your model. In other words, you can say, when a model makes a prediction, how often it is correct. In this case, the training set scored 87.80% and the test was correct 100% of the time.\n",
    "\n",
    "- Recall: If there are debtors who have paid in the training set this model can identify them 100% of the time. In the test set it can identify them 100% of the time\n",
    "\n",
    "#### ROC Curve\n",
    "Receiver Operating Characteristic(ROC) curve is a plot of the true positive rate against the false positive rate. It shows the tradeoff between sensitivity and specificity.\n",
    "\n",
    "- AUC score for the case was 0.947. AUC score 1 represents perfect classifier.\n",
    "\n",
    "#### Cross Validation Score\n",
    "The cross validation score was 86.49%\n",
    "\n",
    "#### StratifiedKFold\n",
    "The Stratified KFold Score was 77.03%\n",
    "\n",
    "#### Overall Evaluation\n",
    "Based on all the scores I think that this might be a ok model, even though the test set was 100%. The observations from the test set might come from the fact that there is only one observations in that set. However the cross-validation and Stratified KFold scores did not match very well. "
   ]
  },
  {
   "cell_type": "markdown",
   "metadata": {},
   "source": [
    "## Fitting and making predictions with RandomForestClassifier model.\n",
    "\n",
    "-----"
   ]
  },
  {
   "cell_type": "markdown",
   "metadata": {},
   "source": [
    "### Gridsearch to find best parameters"
   ]
  },
  {
   "cell_type": "code",
   "execution_count": 29,
   "metadata": {},
   "outputs": [
    {
     "name": "stdout",
     "output_type": "stream",
     "text": [
      "Best parameters {'class_weight': 'balanced', 'criterion': 'gini', 'max_depth': 2, 'min_samples_leaf': 2, 'min_samples_split': 0.07143142857142858, 'n_estimators': 9, 'random_state': 42}\n",
      "Score: 91.89%\n"
     ]
    }
   ],
   "source": [
    "params = {\n",
    "    'criterion':['gini','entropy'],\n",
    "    'class_weight':['balanced',None],\n",
    "    'n_estimators':[9,11],\n",
    "    'max_depth':[1,2],\n",
    "    'min_samples_leaf':[2,3],\n",
    "    'min_samples_split':np.linspace(0.00001, 0.1, 15),\n",
    "    'random_state':[42]\n",
    "}\n",
    "build_model(RandomForestClassifier(), params,  X, y)"
   ]
  },
  {
   "cell_type": "markdown",
   "metadata": {},
   "source": [
    "### Build model with best parameters"
   ]
  },
  {
   "cell_type": "code",
   "execution_count": 48,
   "metadata": {},
   "outputs": [
    {
     "name": "stdout",
     "output_type": "stream",
     "text": [
      "Train Accuracy: 91.78%\n",
      "Train Precision: 85.71%\n",
      "Train Recall: 100.00%\n",
      "Test Accuracy: 100.00%\n",
      "Test Precision: 100.00%\n",
      "Test Recall: 100.00%\n",
      "Cross Validation Score: 94.59%\n",
      "StratifiedKFold Score: 90.54%\n"
     ]
    },
    {
     "data": {
      "image/png": "[encoded data removed]",
      "text/plain": [
       "<Figure size 432x288 with 1 Axes>"
      ]
     },
     "metadata": {},
     "output_type": "display_data"
    }
   ],
   "source": [
    "rf = RandomForestClassifier(class_weight='balanced',\n",
    "                            criterion='gini',\n",
    "                            max_depth=2,\n",
    "                            min_samples_leaf=2,\n",
    "                            min_samples_split=0.0714,\n",
    "                            n_estimators=9,\n",
    "                            random_state=42)\n",
    "leave_one_out(rf, X, y)\n",
    "skfcv(rf, X, y)"
   ]
  },
  {
   "cell_type": "markdown",
   "metadata": {},
   "source": [
    "### What are the important features to this model"
   ]
  },
  {
   "cell_type": "code",
   "execution_count": 31,
   "metadata": {},
   "outputs": [
    {
     "data": {
      "text/plain": [
       "<matplotlib.axes._subplots.AxesSubplot at 0x1c2f9b9d68>"
      ]
     },
     "execution_count": 31,
     "metadata": {},
     "output_type": "execute_result"
    },
    {
     "data": {
      "image/png": "[encoded data removed]",
      "text/plain": [
       "<Figure size 432x288 with 1 Axes>"
      ]
     },
     "metadata": {},
     "output_type": "display_data"
    }
   ],
   "source": [
    "# decision trees can give us feature importances. the higher the number the more important\n",
    "# the predictor was to deciding splits at nodes.\n",
    "# \"The importance of a feature is computed as the (normalized) total reduction of the \n",
    "# criterion brought by that feature.\"\n",
    "#\n",
    "feature_importances = rf.feature_importances_\n",
    "\n",
    "importances = list(zip(rf.feature_importances_, X_col.columns))\n",
    "importances.sort(reverse=True)\n",
    "\n",
    "pd.DataFrame(importances, index=[x for (_,x) in importances]).plot(kind = 'bar')"
   ]
  },
  {
   "cell_type": "markdown",
   "metadata": {},
   "source": [
    "### RandomForestClassifier Model Evaluation\n",
    "#### Confusion Matrix\n",
    "\n",
    "Let's evaluate the model using model evaluation metrics such as accuracy, precision, and recall.\n",
    "\n",
    "- Accuracy: Classification rate of for the training set was 91.78%. The test set scored 100%.  \n",
    "\n",
    "- Precision: How accurate is your model. In other words, you can say, when a model makes a prediction, how often it is correct. In this case, the training set scored 85.71% and the test was correct 100% of the time.\n",
    "\n",
    "- Recall: If there are debtors who have paid in the training set this model can identify them 100% of the time. In the test set it can identify them 100% of the time\n",
    "\n",
    "#### ROC Curve\n",
    "Receiver Operating Characteristic(ROC) curve is a plot of the true positive rate against the false positive rate. It shows the tradeoff between sensitivity and specificity.\n",
    "\n",
    "- AUC score for the case was 0.947. AUC score 1 represents perfect classifier.\n",
    "\n",
    "#### Cross Validation Score\n",
    "The cross validation score was 94.59%\n",
    "\n",
    "#### StratifiedKFold\n",
    "The Stratified KFold Score was 90.54%\n",
    "\n",
    "#### Overall Evaluation\n",
    "Based on all the scores I think that this might be a good model, even though the test set was 100%. The observations from the test set might come from the fact that there is only one observations in that set. However the cross-validation and Stratified KFold scores were very good."
   ]
  },
  {
   "cell_type": "markdown",
   "metadata": {},
   "source": [
    "## Fitting and making predictions with Gradient Boost model.\n",
    "\n",
    "---"
   ]
  },
  {
   "cell_type": "markdown",
   "metadata": {},
   "source": [
    "### Gridsearch to find best parameters"
   ]
  },
  {
   "cell_type": "code",
   "execution_count": 32,
   "metadata": {},
   "outputs": [
    {
     "name": "stdout",
     "output_type": "stream",
     "text": [
      "Best parameters {'learning_rate': 0.1, 'loss': 'deviance', 'max_depth': 3, 'min_samples_leaf': 1, 'min_samples_split': 1e-05, 'n_estimators': 7, 'random_state': 42}\n",
      "Score: 97.30%\n"
     ]
    }
   ],
   "source": [
    "params = {\n",
    "    'n_estimators':[5,7,9],\n",
    "    'learning_rate':[.01,.001,.1],\n",
    "    'max_depth':[1,2,3],\n",
    "    'loss':['deviance'],\n",
    "    'min_samples_leaf':[1,2,3],\n",
    "    'min_samples_split':np.linspace(0.00001, 0.1, 15),\n",
    "    'random_state':[42]\n",
    "}\n",
    "build_model(GradientBoostingClassifier(), params, X, y)"
   ]
  },
  {
   "cell_type": "markdown",
   "metadata": {},
   "source": [
    "### Build model with best parameters"
   ]
  },
  {
   "cell_type": "code",
   "execution_count": 33,
   "metadata": {},
   "outputs": [
    {
     "name": "stdout",
     "output_type": "stream",
     "text": [
      "Train Accuracy: 95.89%\n",
      "Train Precision: 92.31%\n",
      "Train Recall: 100.00%\n",
      "Test Accuracy: 100.00%\n",
      "Test Precision: 100.00%\n",
      "Test Recall: 100.00%\n",
      "Cross Validation Score: 91.89%\n",
      "StratifiedKFold Score: 91.89%\n"
     ]
    },
    {
     "data": {
      "image/png": "[encoded data removed]",
      "text/plain": [
       "<Figure size 432x288 with 1 Axes>"
      ]
     },
     "metadata": {},
     "output_type": "display_data"
    }
   ],
   "source": [
    "grad_boost = GradientBoostingClassifier(learning_rate=0.01,\n",
    "                                        loss='deviance',\n",
    "                                        max_depth=3,\n",
    "                                        min_samples_leaf=1,\n",
    "                                        min_samples_split=0.00001,\n",
    "                                        n_estimators=7,\n",
    "                                        random_state=42)\n",
    "leave_one_out(grad_boost, X, y)\n",
    "skfcv(grad_boost, X, y)"
   ]
  },
  {
   "cell_type": "markdown",
   "metadata": {},
   "source": [
    "### What are the important features to this model"
   ]
  },
  {
   "cell_type": "code",
   "execution_count": 34,
   "metadata": {
    "scrolled": true
   },
   "outputs": [
    {
     "data": {
      "image/png": "[encoded data removed]",
      "text/plain": [
       "<Figure size 432x288 with 1 Axes>"
      ]
     },
     "metadata": {},
     "output_type": "display_data"
    }
   ],
   "source": [
    "# decision trees can give us feature importances. the higher the number the more important\n",
    "# the predictor was to deciding splits at nodes.\n",
    "# \"The importance of a feature is computed as the (normalized) total reduction of the \n",
    "# criterion brought by that feature.\"\n",
    "#\n",
    "feature_importances = grad_boost.feature_importances_\n",
    "\n",
    "importances = list(zip(grad_boost.feature_importances_, X_col.columns))\n",
    "importances.sort(reverse=True)\n",
    "\n",
    "pd.DataFrame(importances, index=[x for (_,x) in importances]).plot(kind = 'bar');"
   ]
  },
  {
   "cell_type": "markdown",
   "metadata": {},
   "source": [
    "### Gradient Boost Model Evaluation\n",
    "#### Confusion Matrix\n",
    "\n",
    "Let's evaluate the model using model evaluation metrics such as accuracy, precision, and recall.\n",
    "\n",
    "- Accuracy: Classification rate of for the training set was 95.89%. The test set scored 100%.  \n",
    "\n",
    "- Precision: How accurate is your model. In other words, you can say, when a model makes a prediction, how often it is correct. In this case, the training set scored 92.31% and the test was correct 100% of the time.\n",
    "\n",
    "- Recall: If there are debtors who have paid in the training set this model can identify them 100% of the time. In the test set it can identify them 100% of the time\n",
    "\n",
    "#### ROC Curve\n",
    "Receiver Operating Characteristic(ROC) curve is a plot of the true positive rate against the false positive rate. It shows the tradeoff between sensitivity and specificity.\n",
    "\n",
    "- AUC score for the case was 0.979. AUC score 1 represents perfect classifier.\n",
    "\n",
    "#### Cross Validation Score\n",
    "The cross validation score was 91.89%\n",
    "\n",
    "#### StratifiedKFold\n",
    "The Stratified KFold Score was 91.89%\n",
    "\n",
    "#### Overall Evaluation\n",
    "Based on all the scores I think that this might be a good model, even though the test set was 100%. The observations from the test set might come from the fact that there is only one observations in that set. However the cross-validation and Stratified KFold scores were very good."
   ]
  },
  {
   "cell_type": "markdown",
   "metadata": {},
   "source": [
    "## Fitting and making predictions with KNeighborsClassifier model.\n",
    "\n",
    "---"
   ]
  },
  {
   "cell_type": "markdown",
   "metadata": {},
   "source": [
    "#### Instantiate KNN\n",
    "\n",
    "For the `KNeighborsClassifier`, there a few important parameters to keep in mind:\n",
    "\n",
    "1. `n_neighbors`: this is the \"K\" in KNN. The best K will change from problem to problem, but the default is 5.\n",
    "2. `weights`: The neighbors can all have an equal vote (`uniform`), or the closer points can have a higher weighted vote (`distance`).\n",
    "3. `p`: The distance metric. The default is Euclidean distance (2). Changing it to 1 is setting the distance to Manhattan.\n",
    "\n",
    "In the cell below, instantiate a `knn` model using the default parameters."
   ]
  },
  {
   "cell_type": "code",
   "execution_count": 35,
   "metadata": {},
   "outputs": [],
   "source": [
    "# Because these are dummy vaiables scaling is not required\n",
    "features = ['Cycle_QUATERNARY', \n",
    "            'Cycle_SECONDARY', \n",
    "            'Cycle_TERTIARY', \n",
    "           ]\n",
    "\n",
    "X_knn = df[features]\n",
    "y_knn = df['Paid']"
   ]
  },
  {
   "cell_type": "markdown",
   "metadata": {},
   "source": [
    "### SMOTE (Synthetic Minority Over-sampling Technique)"
   ]
  },
  {
   "cell_type": "code",
   "execution_count": 37,
   "metadata": {},
   "outputs": [
    {
     "name": "stdout",
     "output_type": "stream",
     "text": [
      "Before OverSampling, counts of label '1': 5\n",
      "Before OverSampling, counts of label '0': 37 \n",
      "\n",
      "After OverSampling, the shape of X_res: (74, 3)\n",
      "After OverSampling, the shape of y_res: (74,) \n",
      "\n",
      "After OverSampling, counts of label '1': 37\n",
      "After OverSampling, counts of label '0': 37\n"
     ]
    }
   ],
   "source": [
    "print(\"Before OverSampling, counts of label '1': {}\".format(sum(y_knn==1)))\n",
    "print(\"Before OverSampling, counts of label '0': {} \\n\".format(sum(y_knn==0)))\n",
    "\n",
    "sm = SMOTE(k_neighbors=3,random_state=42)\n",
    "X_res, y_res = sm.fit_sample(X_knn, y_knn)\n",
    "\n",
    "print('After OverSampling, the shape of X_res: {}'.format(X_res.shape))\n",
    "print('After OverSampling, the shape of y_res: {} \\n'.format(y_res.shape))\n",
    "\n",
    "print(\"After OverSampling, counts of label '1': {}\".format(sum(y_res==1)))\n",
    "print(\"After OverSampling, counts of label '0': {}\".format(sum(y_res==0)))"
   ]
  },
  {
   "cell_type": "markdown",
   "metadata": {},
   "source": [
    "### Gridsearch to find best parameters"
   ]
  },
  {
   "cell_type": "code",
   "execution_count": 38,
   "metadata": {},
   "outputs": [
    {
     "name": "stdout",
     "output_type": "stream",
     "text": [
      "Best parameters {'algorithm': 'auto', 'n_neighbors': 3}\n",
      "Score: 59.46%\n"
     ]
    }
   ],
   "source": [
    "params = {\n",
    "    'n_neighbors':[3,5,7],\n",
    "    'algorithm':['auto']\n",
    "}\n",
    "build_model(KNeighborsClassifier(), params, X_res, y_res)"
   ]
  },
  {
   "cell_type": "markdown",
   "metadata": {},
   "source": [
    "### Build model with best parameters"
   ]
  },
  {
   "cell_type": "code",
   "execution_count": 39,
   "metadata": {},
   "outputs": [
    {
     "name": "stdout",
     "output_type": "stream",
     "text": [
      "Train Accuracy: 58.90%\n",
      "Train Precision: 100.00%\n",
      "Train Recall: 16.67%\n",
      "Test Accuracy: 100.00%\n",
      "Test Precision: 100.00%\n",
      "Test Recall: 100.00%\n",
      "Cross Validation Score: 59.46%\n",
      "StratifiedKFold Score: 86.49%\n"
     ]
    },
    {
     "data": {
      "image/png": "[encoded data removed]",
      "text/plain": [
       "<Figure size 432x288 with 1 Axes>"
      ]
     },
     "metadata": {},
     "output_type": "display_data"
    }
   ],
   "source": [
    "knn = KNeighborsClassifier(algorithm='auto',\n",
    "                           n_neighbors=3)\n",
    "\n",
    "leave_one_out(knn, X_res, y_res)\n",
    "skfcv(knn, X, y)"
   ]
  },
  {
   "cell_type": "markdown",
   "metadata": {},
   "source": [
    "### KNeighborsClassifier Model Evaluation\n",
    "#### Confusion Matrix\n",
    "\n",
    "Let's evaluate the model using model evaluation metrics such as accuracy, precision, and recall.\n",
    "\n",
    "- Accuracy: Classification rate of for the training set was 58.9%. The test set scored 100%.  \n",
    "\n",
    "- Precision: How accurate is your model. In other words, you can say, when a model makes a prediction, how often it is correct. In this case, both the training set the test was correct 100% of the time.\n",
    "\n",
    "- Recall: If there are debtors who have paid in the training set this model can identify them 16.67% of the time. In the test set it can identify them 100% of the time\n",
    "\n",
    "#### ROC Curve\n",
    "Receiver Operating Characteristic(ROC) curve is a plot of the true positive rate against the false positive rate. It shows the tradeoff between sensitivity and specificity.\n",
    "\n",
    "- AUC score for the case was 0.595. AUC score 1 represents perfect classifier.\n",
    "\n",
    "#### Cross Validation Score\n",
    "The cross validation score was 59.46%\n",
    "\n",
    "#### StratifiedKFold\n",
    "The Stratified KFold Score was 86.49%\n",
    "\n",
    "#### Overall Evaluation\n",
    "Based on all the scores I think that this is a bad model, even though the test set was 100%. The observations from the test set might come from the fact that there is only one observations in that set. However the cross-validation and Stratified KFold scores did not match very well. Also, the low accuracy and recall scores on the test set make this model not better then chance."
   ]
  },
  {
   "cell_type": "code",
   "execution_count": null,
   "metadata": {},
   "outputs": [],
   "source": []
  }
 ],
 "metadata": {
  "kernelspec": {
   "display_name": "Python 3",
   "language": "python",
   "name": "python3"
  },
  "language_info": {
   "codemirror_mode": {
    "name": "ipython",
    "version": 3
   },
   "file_extension": ".py",
   "mimetype": "text/x-python",
   "name": "python",
   "nbconvert_exporter": "python",
   "pygments_lexer": "ipython3",
   "version": "3.6.5"
  }
 },
 "nbformat": 4,
 "nbformat_minor": 2
}
