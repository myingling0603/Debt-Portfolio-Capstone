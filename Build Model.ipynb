{
 "cells": [
  {
   "cell_type": "code",
   "execution_count": 1,
   "metadata": {},
   "outputs": [
    {
     "name": "stderr",
     "output_type": "stream",
     "text": [
      "/anaconda3/lib/python3.6/site-packages/sklearn/ensemble/weight_boosting.py:29: DeprecationWarning: numpy.core.umath_tests is an internal NumPy module and should not be imported. It will be removed in a future NumPy release.\n",
      "  from numpy.core.umath_tests import inner1d\n",
      "/anaconda3/lib/python3.6/site-packages/h5py/__init__.py:36: FutureWarning: Conversion of the second argument of issubdtype from `float` to `np.floating` is deprecated. In future, it will be treated as `np.float64 == np.dtype(float).type`.\n",
      "  from ._conv import register_converters as _register_converters\n",
      "Using TensorFlow backend.\n"
     ]
    },
    {
     "name": "stdout",
     "output_type": "stream",
     "text": [
      "Couldn't import dot_parser, loading of dot files will not be possible.\n"
     ]
    }
   ],
   "source": [
    "import pandas as pd\n",
    "import math\n",
    "import numpy as np\n",
    "import statsmodels.api as sm\n",
    "import matplotlib.pyplot as plt\n",
    "from datetime import datetime\n",
    "from sklearn import metrics\n",
    "from sklearn.metrics import mean_squared_error, accuracy_score\n",
    "from sklearn.model_selection import train_test_split, KFold, cross_val_score, GridSearchCV\n",
    "from sklearn.tree import DecisionTreeClassifier\n",
    "from sklearn.ensemble import RandomForestClassifier,AdaBoostClassifier, GradientBoostingClassifier\n",
    "from sklearn.linear_model import LogisticRegression\n",
    "from sklearn.neighbors import KNeighborsClassifier\n",
    "from sklearn.preprocessing import StandardScaler\n",
    "from keras.models import Sequential\n",
    "from keras.layers import Dense\n",
    "from imblearn.over_sampling import SMOTE\n",
    "\n",
    "%matplotlib inline"
   ]
  },
  {
   "cell_type": "code",
   "execution_count": 2,
   "metadata": {},
   "outputs": [],
   "source": [
    "df = pd.read_excel('./Data/File1.xlsx')"
   ]
  },
  {
   "cell_type": "markdown",
   "metadata": {},
   "source": [
    "## Feature Engineering\n",
    "\n",
    "---\n",
    "\n",
    "In my discussions with my SME there were two fields that were very important in helping to determine if someone will repay their loan.\n",
    "\n",
    "- OOS Date: This is the out of statute date, which is the last date any litigation can be brought. The further away from this date the more likely you are to collect. I subtracted the date this portfolio was purchased from this date to get that number\n",
    "- Cycle: This is the number of times the loan have been sent out for collection. Typically the fewer times collection attempts the more likely you are to collect."
   ]
  },
  {
   "cell_type": "code",
   "execution_count": 3,
   "metadata": {},
   "outputs": [],
   "source": [
    "# Date the protfolio was purchased\n",
    "purchased_dt = pd.to_datetime('10/24/2008')\n",
    "\n",
    "# Calculate the days until Out of Statute\n",
    "df['OOS Days Left'] = df['OOS Date'] - purchased_dt\n",
    "df['OOS Days Left int'] = 0\n",
    "\n",
    "for i, _ in df.iterrows():\n",
    "    days = df.iloc[i]['OOS Days Left'].days\n",
    "    df.iloc[i,29] = days"
   ]
  },
  {
   "cell_type": "code",
   "execution_count": 4,
   "metadata": {
    "scrolled": true
   },
   "outputs": [
    {
     "data": {
      "text/plain": [
       "Index(['Account Number', 'PortID', 'Remaining Balance', 'interests Fees',\n",
       "       'Date Opened', 'Charge Off Date', 'Last Pay Date', 'Last Pay Amount',\n",
       "       'Last Activity Date', 'Interest Rate %', 'Issuer', 'Merchant',\n",
       "       'FCFRA Date', 'OOS Date', 'Account Type', 'Last Name', 'First Name',\n",
       "       'Middle Name', 'Address', 'City', 'State', 'Zip', 'County', 'SSN',\n",
       "       'Home Phone', 'Employer Phone', 'Paid', 'OOS Days Left',\n",
       "       'OOS Days Left int', 'Cycle_QUATERNARY', 'Cycle_SECONDARY',\n",
       "       'Cycle_TERTIARY'],\n",
       "      dtype='object')"
      ]
     },
     "execution_count": 4,
     "metadata": {},
     "output_type": "execute_result"
    }
   ],
   "source": [
    "# Dummy up the Cycle as this is an important feature\n",
    "df = pd.get_dummies(df, columns = ['Cycle'])\n",
    "df.columns"
   ]
  },
  {
   "cell_type": "markdown",
   "metadata": {},
   "source": [
    "## Write out the cleaned data"
   ]
  },
  {
   "cell_type": "code",
   "execution_count": 5,
   "metadata": {},
   "outputs": [],
   "source": [
    "# Write out the new .csv file\n",
    "df.to_csv(\"./Data/cleaned.csv\", index=False)"
   ]
  },
  {
   "cell_type": "markdown",
   "metadata": {},
   "source": [
    "## Creating the features for the model\n",
    "In my discussions with my SME there are 6 features that will be the best in determining the likelihood of someone repaying their loan.\n",
    "\n",
    "- Remaining Balance\n",
    "- Interest Rate %\n",
    "- interests Fees\n",
    "- Last Pay Amount\n",
    "- OOS Date: I'll use the number of day until that date which I calculated above\n",
    "- Cycle: I'll use the dummies that I created above\n"
   ]
  },
  {
   "cell_type": "code",
   "execution_count": 6,
   "metadata": {},
   "outputs": [],
   "source": [
    "num_cols = df.columns[[np.issubdtype(dt, np.number) for dt in df.dtypes]]\n",
    "\n",
    "drop_cols = [key for key in dict(df.dtypes) \n",
    "                if dict(df.dtypes)[key] in ['datetime64[ns]', 'object']]\n",
    "\n",
    "# Add others to drop list\n",
    "drop_cols.extend(('Paid','Account Number','SSN','Home Phone',\n",
    "                  'Employer Phone','OOS Days Left'))"
   ]
  },
  {
   "cell_type": "code",
   "execution_count": 7,
   "metadata": {},
   "outputs": [
    {
     "data": {
      "text/plain": [
       "Index(['Account Number', 'Remaining Balance', 'interests Fees',\n",
       "       'Last Pay Amount', 'Interest Rate %', 'SSN', 'Home Phone',\n",
       "       'Employer Phone', 'Paid', 'OOS Days Left', 'OOS Days Left int',\n",
       "       'Cycle_QUATERNARY', 'Cycle_SECONDARY', 'Cycle_TERTIARY'],\n",
       "      dtype='object')"
      ]
     },
     "execution_count": 7,
     "metadata": {},
     "output_type": "execute_result"
    }
   ],
   "source": [
    "num_cols"
   ]
  },
  {
   "cell_type": "code",
   "execution_count": 8,
   "metadata": {},
   "outputs": [
    {
     "data": {
      "text/plain": [
       "['PortID',\n",
       " 'Date Opened',\n",
       " 'Charge Off Date',\n",
       " 'Last Pay Date',\n",
       " 'Last Activity Date',\n",
       " 'Issuer',\n",
       " 'Merchant',\n",
       " 'FCFRA Date',\n",
       " 'OOS Date',\n",
       " 'Account Type',\n",
       " 'Last Name',\n",
       " 'First Name',\n",
       " 'Middle Name',\n",
       " 'Address',\n",
       " 'City',\n",
       " 'State',\n",
       " 'Zip',\n",
       " 'County',\n",
       " 'Paid',\n",
       " 'Account Number',\n",
       " 'SSN',\n",
       " 'Home Phone',\n",
       " 'Employer Phone',\n",
       " 'OOS Days Left']"
      ]
     },
     "execution_count": 8,
     "metadata": {},
     "output_type": "execute_result"
    }
   ],
   "source": [
    "drop_cols"
   ]
  },
  {
   "cell_type": "markdown",
   "metadata": {},
   "source": [
    "## Getting Ready To Model"
   ]
  },
  {
   "cell_type": "code",
   "execution_count": 9,
   "metadata": {},
   "outputs": [],
   "source": [
    "y = df['Paid']\n",
    "X = df.drop(columns = drop_cols)"
   ]
  },
  {
   "cell_type": "code",
   "execution_count": 10,
   "metadata": {},
   "outputs": [],
   "source": [
    "X_train, X_test, y_train, y_test = train_test_split(X, y, \n",
    "                                                    test_size=0.4, \n",
    "                                                    random_state=42, \n",
    "                                                    stratify=y)\n",
    "\n",
    "ss = StandardScaler()\n",
    "ss.fit(X_train)\n",
    "X_train = ss.transform(X_train)\n",
    "X_test = ss.transform(X_test)"
   ]
  },
  {
   "cell_type": "markdown",
   "metadata": {},
   "source": [
    "### SMOTE (Synthetic Minority Over-sampling Technique)"
   ]
  },
  {
   "cell_type": "code",
   "execution_count": 11,
   "metadata": {},
   "outputs": [
    {
     "name": "stdout",
     "output_type": "stream",
     "text": [
      "Before OverSampling, counts of label '1': 3\n",
      "Before OverSampling, counts of label '0': 22 \n",
      "\n",
      "After OverSampling, the shape of train_X: (44, 8)\n",
      "After OverSampling, the shape of train_y: (44,) \n",
      "\n",
      "After OverSampling, counts of label '1': 22\n",
      "After OverSampling, counts of label '0': 22\n"
     ]
    }
   ],
   "source": [
    "print(\"Before OverSampling, counts of label '1': {}\".format(sum(y_train==1)))\n",
    "print(\"Before OverSampling, counts of label '0': {} \\n\".format(sum(y_train==0)))\n",
    "\n",
    "sm = SMOTE(k_neighbors=2,random_state=42)\n",
    "X_train_res, y_train_res = sm.fit_sample(X_train, y_train.ravel())\n",
    "\n",
    "print('After OverSampling, the shape of train_X: {}'.format(X_train_res.shape))\n",
    "print('After OverSampling, the shape of train_y: {} \\n'.format(y_train_res.shape))\n",
    "\n",
    "print(\"After OverSampling, counts of label '1': {}\".format(sum(y_train_res==1)))\n",
    "print(\"After OverSampling, counts of label '0': {}\".format(sum(y_train_res==0)))"
   ]
  },
  {
   "cell_type": "markdown",
   "metadata": {},
   "source": [
    "### Gridsearch Function"
   ]
  },
  {
   "cell_type": "code",
   "execution_count": 13,
   "metadata": {},
   "outputs": [],
   "source": [
    "def build_model(model, model_params, X_train, y_train, X_test, y_test):\n",
    "   \n",
    "    model = model\n",
    "    \n",
    "    gs = GridSearchCV(model, param_grid=model_params, cv=5, n_jobs=3)\n",
    "    gs.fit(X_train, y_train);\n",
    "\n",
    "    print('Best parameters',gs.best_params_)\n",
    "\n",
    "    # Model Accuracy, how often is the classifier correct\n",
    "    accuracy = gs.best_score_\n",
    "    print('Best Training Score: %.2f%%' % (accuracy * 100.0))\n",
    "\n",
    "    accuracy = gs.score(X_test, y_test)\n",
    "    print('Test Score: %.2f%%' % (accuracy * 100.0))"
   ]
  },
  {
   "cell_type": "markdown",
   "metadata": {},
   "source": [
    "## Fitting and making predictions with the Logistic Regression model.\n",
    "\n",
    "---"
   ]
  },
  {
   "cell_type": "markdown",
   "metadata": {},
   "source": [
    "### Gridsearch to find best parameters"
   ]
  },
  {
   "cell_type": "code",
   "execution_count": 14,
   "metadata": {},
   "outputs": [
    {
     "name": "stdout",
     "output_type": "stream",
     "text": [
      "Best parameters {'class_weight': 'balanced', 'random_state': 42}\n",
      "Best Training Score: 93.18%\n",
      "Test Score: 82.35%\n"
     ]
    }
   ],
   "source": [
    "params = {\n",
    "    'random_state':[42],\n",
    "    'class_weight':['balanced',None]\n",
    "}\n",
    "build_model(LogisticRegression(), params, X_train_res, y_train_res.ravel(), X_test, y_test)"
   ]
  },
  {
   "cell_type": "code",
   "execution_count": 15,
   "metadata": {},
   "outputs": [
    {
     "data": {
      "text/plain": [
       "LogisticRegression(C=1.0, class_weight=None, dual=False, fit_intercept=True,\n",
       "          intercept_scaling=1, max_iter=100, multi_class='ovr', n_jobs=1,\n",
       "          penalty='l2', random_state=42, solver='liblinear', tol=0.0001,\n",
       "          verbose=0, warm_start=False)"
      ]
     },
     "execution_count": 15,
     "metadata": {},
     "output_type": "execute_result"
    }
   ],
   "source": [
    "# Step 1: Instantiate our model.\n",
    "logreg = LogisticRegression(class_weight=None,\n",
    "                            random_state=42)\n",
    "\n",
    "# Step 2: Fit our model.\n",
    "logreg.fit(X_train_res, y_train_res.ravel())"
   ]
  },
  {
   "cell_type": "markdown",
   "metadata": {},
   "source": [
    "### Confusion Matrix"
   ]
  },
  {
   "cell_type": "markdown",
   "metadata": {},
   "source": [
    "#### Evaluation Metrics\n",
    "Let's evaluate the model using model evaluation metrics such as accuracy, precision, and recall.\n",
    "\n",
    "- Accuracy: Classification rate of 96% for the training and 82.35% for the test, which are considered great accuracy.\n",
    "\n",
    "- Precision: Precision is about being precise, i.e., how accurate your model is. In other words, you can say, when a model makes a prediction, how often it is correct. In this  case, the training set was correct 100% of the time but the test set was 0% of the time.\n",
    "\n",
    "- Recall: Sensitivity number is 66.67% for the training set but is 0% for the test set"
   ]
  },
  {
   "cell_type": "code",
   "execution_count": 20,
   "metadata": {},
   "outputs": [
    {
     "name": "stdout",
     "output_type": "stream",
     "text": [
      "Accuracy for training set: 96.00%\n",
      "Precision for training set: 100.00%\n",
      "Recall for training set: 66.67%\n"
     ]
    }
   ],
   "source": [
    "y_train_pred = logreg.predict(X_train)\n",
    "\n",
    "accuracy = metrics.accuracy_score(y_train, y_train_pred)\n",
    "print('Accuracy for training set: %.2f%%' % (accuracy * 100.0))\n",
    "\n",
    "precision = metrics.precision_score(y_train, y_train_pred)\n",
    "print('Precision for training set: %.2f%%' % (precision * 100.0))\n",
    "\n",
    "recall = metrics.recall_score(y_train, y_train_pred)\n",
    "print('Recall for training set: %.2f%%' % (recall * 100.0))"
   ]
  },
  {
   "cell_type": "code",
   "execution_count": 21,
   "metadata": {},
   "outputs": [
    {
     "name": "stdout",
     "output_type": "stream",
     "text": [
      "Accuracy for test set: 82.35%\n",
      "Precision for test set: 0.00%\n",
      "Recall for test set: 0.00%\n"
     ]
    }
   ],
   "source": [
    "y_test_pred = logreg.predict(X_test)\n",
    "\n",
    "accuracy = metrics.accuracy_score(y_test, y_test_pred)\n",
    "print('Accuracy for test set: %.2f%%' % (accuracy * 100.0))\n",
    "\n",
    "precision = metrics.precision_score(y_test, y_test_pred)\n",
    "print('Precision for test set: %.2f%%' % (precision * 100.0))\n",
    "\n",
    "recall = metrics.recall_score(y_test, y_test_pred)\n",
    "print('Recall for test set: %.2f%%' % (recall * 100.0))"
   ]
  },
  {
   "cell_type": "markdown",
   "metadata": {},
   "source": [
    "#### ROC Curve\n",
    "Receiver Operating Characteristic(ROC) curve is a plot of the true positive rate against the false positive rate. It shows the tradeoff between sensitivity and specificity.\n",
    "\n",
    "- AUC score for the case is 0.4. AUC score 1 represents perfect classifier, and 0.4 represents a worthless classifier. This has been a consistent score. "
   ]
  },
  {
   "cell_type": "code",
   "execution_count": 22,
   "metadata": {},
   "outputs": [
    {
     "data": {
      "text/plain": [
       "(0.0, 1.0)"
      ]
     },
     "execution_count": 22,
     "metadata": {},
     "output_type": "execute_result"
    },
    {
     "data": {
      "image/png": "[encoded data removed]",
      "text/plain": [
       "<Figure size 432x288 with 2 Axes>"
      ]
     },
     "metadata": {},
     "output_type": "display_data"
    }
   ],
   "source": [
    "y_pred_proba = logreg.predict_proba(X_test)[::,1]\n",
    "\n",
    "\n",
    "fpr, tpr, thresholds = metrics.roc_curve(y_test, y_pred_proba)\n",
    "\n",
    "roc_auc = metrics.auc(fpr,tpr)\n",
    "\n",
    "# Plot ROC\n",
    "plt.title('Receiver Operating Characteristic')\n",
    "plt.plot(fpr, tpr, 'b',label='AUC = %0.3f'% roc_auc)\n",
    "plt.legend(loc='lower right')\n",
    "plt.plot([0,1],[0,1],'r--')\n",
    "plt.xlim([-0.1,1.0])\n",
    "plt.ylim([-0.1,1.01])\n",
    "plt.ylabel('True Positive Rate')\n",
    "plt.xlabel('False Positive Rate')\n",
    "\n",
    "# create the axis of thresholds (scores)\n",
    "ax2 = plt.gca().twinx()\n",
    "ax2.plot(fpr, thresholds, markeredgecolor='k',linestyle='dashed', color='k')\n",
    "ax2.set_ylabel('Threshold',color='k')\n",
    "ax2.set_ylim([thresholds[-1],thresholds[0]])\n",
    "ax2.set_xlim([fpr[0],fpr[-1]])"
   ]
  },
  {
   "cell_type": "markdown",
   "metadata": {},
   "source": [
    "## Fitting and making predictions with DecisionTreeClassifier model.\n",
    "\n",
    "---"
   ]
  },
  {
   "cell_type": "markdown",
   "metadata": {},
   "source": [
    "### Gridsearch to find best parameters"
   ]
  },
  {
   "cell_type": "code",
   "execution_count": 23,
   "metadata": {},
   "outputs": [
    {
     "name": "stdout",
     "output_type": "stream",
     "text": [
      "Best parameters {'class_weight': 'balanced', 'criterion': 'gini', 'random_state': 42}\n",
      "Best Training Score: 79.55%\n",
      "Test Score: 82.35%\n"
     ]
    }
   ],
   "source": [
    "params = {\n",
    "    'criterion':['gini','entropy'],\n",
    "    'random_state':[42],\n",
    "    'class_weight':['balanced',None]\n",
    "}\n",
    "build_model(DecisionTreeClassifier(), params, \n",
    "            X_train_res, y_train_res.ravel(), X_test, y_test)"
   ]
  },
  {
   "cell_type": "markdown",
   "metadata": {},
   "source": [
    "### Build model with best parameters"
   ]
  },
  {
   "cell_type": "code",
   "execution_count": 27,
   "metadata": {},
   "outputs": [
    {
     "data": {
      "text/plain": [
       "DecisionTreeClassifier(class_weight='balanced', criterion='gini',\n",
       "            max_depth=None, max_features=None, max_leaf_nodes=None,\n",
       "            min_impurity_decrease=0.0, min_impurity_split=None,\n",
       "            min_samples_leaf=1, min_samples_split=2,\n",
       "            min_weight_fraction_leaf=0.0, presort=False, random_state=42,\n",
       "            splitter='best')"
      ]
     },
     "execution_count": 27,
     "metadata": {},
     "output_type": "execute_result"
    }
   ],
   "source": [
    "dt = DecisionTreeClassifier(criterion='gini', \n",
    "                            class_weight='balanced',\n",
    "                            random_state=42)\n",
    "\n",
    "dt.fit(X_train_res, y_train_res.ravel())"
   ]
  },
  {
   "cell_type": "markdown",
   "metadata": {},
   "source": [
    "### Confusion Matrix"
   ]
  },
  {
   "cell_type": "markdown",
   "metadata": {},
   "source": [
    "#### Evaluation Metrics\n",
    "Let's evaluate the model using model evaluation metrics such as accuracy, precision, and recall.\n",
    "\n",
    "- Accuracy: Classification rate of 100% for the training and 82.35% for the test, which are considered great accuracy.\n",
    "\n",
    "- Precision: Precision is about being precise, i.e., how accurate your model is. In other words, you can say, when a model makes a prediction, how often it is correct. In this  case, the training set was correct 100% of the time but the test set was 0% of the time.\n",
    "\n",
    "- Recall: Sensitivity number is 100% for the training set but is 0% for the test set"
   ]
  },
  {
   "cell_type": "code",
   "execution_count": 26,
   "metadata": {},
   "outputs": [
    {
     "name": "stdout",
     "output_type": "stream",
     "text": [
      "Accuracy for training set: 100.00%\n",
      "Precision for training set: 100.00%\n",
      "Recall for training set: 100.00%\n"
     ]
    }
   ],
   "source": [
    "y_train_pred = dt.predict(X_train)\n",
    "\n",
    "accuracy = metrics.accuracy_score(y_train, y_train_pred)\n",
    "print('Accuracy for training set: %.2f%%' % (accuracy * 100.0))\n",
    "\n",
    "precision = metrics.precision_score(y_train, y_train_pred)\n",
    "print('Precision for training set: %.2f%%' % (precision * 100.0))\n",
    "\n",
    "recall = metrics.recall_score(y_train, y_train_pred)\n",
    "print('Recall for training set: %.2f%%' % (recall * 100.0))"
   ]
  },
  {
   "cell_type": "code",
   "execution_count": 28,
   "metadata": {},
   "outputs": [
    {
     "name": "stdout",
     "output_type": "stream",
     "text": [
      "Accuracy for test set: 82.35%\n",
      "Precision for test set: 0.00%\n",
      "Recall for test set: 0.00%\n"
     ]
    }
   ],
   "source": [
    "y_test_pred = dt.predict(X_test)\n",
    "\n",
    "accuracy = metrics.accuracy_score(y_test, y_test_pred)\n",
    "print('Accuracy for test set: %.2f%%' % (accuracy * 100.0))\n",
    "\n",
    "precision = metrics.precision_score(y_test, y_test_pred)\n",
    "print('Precision for test set: %.2f%%' % (precision * 100.0))\n",
    "\n",
    "recall = metrics.recall_score(y_test, y_test_pred)\n",
    "print('Recall for test set: %.2f%%' % (recall * 100.0))"
   ]
  },
  {
   "cell_type": "markdown",
   "metadata": {},
   "source": [
    "### What are the important features to this model"
   ]
  },
  {
   "cell_type": "code",
   "execution_count": 29,
   "metadata": {},
   "outputs": [
    {
     "data": {
      "text/plain": [
       "<matplotlib.axes._subplots.AxesSubplot at 0x1c3565b3c8>"
      ]
     },
     "execution_count": 29,
     "metadata": {},
     "output_type": "execute_result"
    },
    {
     "data": {
      "image/png": "[encoded data removed]",
      "text/plain": [
       "<Figure size 432x288 with 1 Axes>"
      ]
     },
     "metadata": {},
     "output_type": "display_data"
    }
   ],
   "source": [
    "# decision trees can give us feature importances. the higher the number the more important\n",
    "# the predictor was to deciding splits at nodes.\n",
    "# \"The importance of a feature is computed as the (normalized) total reduction of the \n",
    "# criterion brought by that feature.\"\n",
    "#\n",
    "feature_importances = dt.feature_importances_\n",
    "\n",
    "importances = list(zip(dt.feature_importances_, X.columns))\n",
    "importances.sort(reverse=True)\n",
    "\n",
    "pd.DataFrame(importances, index=[x for (_,x) in importances]).plot(kind = 'bar')"
   ]
  },
  {
   "cell_type": "markdown",
   "metadata": {},
   "source": [
    "### ROC Curve\n",
    "Receiver Operating Characteristic(ROC) curve is a plot of the true positive rate against the false positive rate. It shows the tradeoff between sensitivity and specificity.\n",
    "\n",
    "- AUC score for the case is 0.45. AUC score 1 represents perfect classifier, and 0.45 represents a worthless classifier. This has been a consistent score."
   ]
  },
  {
   "cell_type": "code",
   "execution_count": 30,
   "metadata": {},
   "outputs": [
    {
     "data": {
      "text/plain": [
       "(0.0, 1.0)"
      ]
     },
     "execution_count": 30,
     "metadata": {},
     "output_type": "execute_result"
    },
    {
     "data": {
      "image/png": "[encoded data removed]",
      "text/plain": [
       "<Figure size 432x288 with 2 Axes>"
      ]
     },
     "metadata": {},
     "output_type": "display_data"
    }
   ],
   "source": [
    "y_pred_proba = dt.predict_proba(X_test)[::,1]\n",
    "\n",
    "fpr, tpr, thresholds = metrics.roc_curve(y_test, y_pred_proba)\n",
    "\n",
    "roc_auc = metrics.auc(fpr,tpr)\n",
    "\n",
    "# Plot ROC\n",
    "plt.title('Receiver Operating Characteristic')\n",
    "plt.plot(fpr, tpr, 'b',label='AUC = %0.3f'% roc_auc)\n",
    "plt.legend(loc='lower right')\n",
    "plt.plot([0,1],[0,1],'r--')\n",
    "plt.xlim([-0.1,1.0])\n",
    "plt.ylim([-0.1,1.01])\n",
    "plt.ylabel('True Positive Rate')\n",
    "plt.xlabel('False Positive Rate')\n",
    "\n",
    "# create the axis of thresholds (scores)\n",
    "ax2 = plt.gca().twinx()\n",
    "ax2.plot(fpr, thresholds, markeredgecolor='k',linestyle='dashed', color='k')\n",
    "ax2.set_ylabel('Threshold',color='k')\n",
    "ax2.set_ylim([thresholds[-1],thresholds[0]])\n",
    "ax2.set_xlim([fpr[0],fpr[-1]])"
   ]
  },
  {
   "cell_type": "markdown",
   "metadata": {},
   "source": [
    "## Fitting and making predictions with RandomForestClassifier model.\n",
    "\n",
    "-----"
   ]
  },
  {
   "cell_type": "markdown",
   "metadata": {},
   "source": [
    "### Gridsearch to find best parameters"
   ]
  },
  {
   "cell_type": "code",
   "execution_count": 55,
   "metadata": {},
   "outputs": [
    {
     "name": "stdout",
     "output_type": "stream",
     "text": [
      "Best parameters {'class_weight': 'balanced', 'criterion': 'gini', 'n_estimators': 3, 'random_state': 42}\n",
      "Best Training Score: 70.00%\n",
      "Test Score: 92.31%\n"
     ]
    }
   ],
   "source": [
    "params = {\n",
    "    'criterion':['gini','entropy'],\n",
    "    'random_state':[42],\n",
    "    'class_weight':['balanced',None],\n",
    "    'n_estimators':[3,5]\n",
    "}\n",
    "build_model(RandomForestClassifier(), params, \n",
    "            X_train_res, y_train_res.ravel(), \n",
    "            X_test, y_test)"
   ]
  },
  {
   "cell_type": "markdown",
   "metadata": {},
   "source": [
    "### Build model with best parameters"
   ]
  },
  {
   "cell_type": "code",
   "execution_count": 56,
   "metadata": {},
   "outputs": [
    {
     "data": {
      "text/plain": [
       "RandomForestClassifier(bootstrap=True, class_weight='balanced',\n",
       "            criterion='gini', max_depth=None, max_features='auto',\n",
       "            max_leaf_nodes=None, min_impurity_decrease=0.0,\n",
       "            min_impurity_split=None, min_samples_leaf=1,\n",
       "            min_samples_split=2, min_weight_fraction_leaf=0.0,\n",
       "            n_estimators=5, n_jobs=1, oob_score=False, random_state=42,\n",
       "            verbose=0, warm_start=False)"
      ]
     },
     "execution_count": 56,
     "metadata": {},
     "output_type": "execute_result"
    }
   ],
   "source": [
    "rf = RandomForestClassifier(criterion='gini',\n",
    "                            class_weight='balanced',\n",
    "                            n_estimators=5,\n",
    "                            random_state=42)\n",
    "\n",
    "rf.fit(X_train_res, y_train_res.ravel())"
   ]
  },
  {
   "cell_type": "markdown",
   "metadata": {},
   "source": [
    "### Confusion Matrix"
   ]
  },
  {
   "cell_type": "markdown",
   "metadata": {},
   "source": [
    "#### Evaluation Metrics\n",
    "Let's evaluate the model using model evaluation metrics such as accuracy, precision, and recall.\n",
    "\n",
    "- Accuracy: Classification rate of 100% for the training and 88.24% for the test, which are considered great accuracy.\n",
    "\n",
    "- Precision: Precision is about being precise, i.e., how accurate your model is. In other words, you can say, when a model makes a prediction, how often it is correct. In this  case, the training set was correct 100% of the time but the test set was 0% of the time.\n",
    "\n",
    "- Recall: Sensitivity number is 100% for the training set but is 0% for the test set"
   ]
  },
  {
   "cell_type": "code",
   "execution_count": 35,
   "metadata": {},
   "outputs": [
    {
     "name": "stdout",
     "output_type": "stream",
     "text": [
      "Accuracy for training set: 100.00%\n",
      "Precision for training set: 100.00%\n",
      "Recall for training set: 100.00%\n"
     ]
    }
   ],
   "source": [
    "y_train_pred = rf.predict(X_train)\n",
    "\n",
    "accuracy = metrics.accuracy_score(y_train, y_train_pred)\n",
    "print('Accuracy for training set: %.2f%%' % (accuracy * 100.0))\n",
    "\n",
    "precision = metrics.precision_score(y_train, y_train_pred)\n",
    "print('Precision for training set: %.2f%%' % (precision * 100.0))\n",
    "\n",
    "recall = metrics.recall_score(y_train, y_train_pred)\n",
    "print('Recall for training set: %.2f%%' % (recall * 100.0))"
   ]
  },
  {
   "cell_type": "code",
   "execution_count": 36,
   "metadata": {},
   "outputs": [
    {
     "name": "stdout",
     "output_type": "stream",
     "text": [
      "Accuracy for test set: 88.24%\n",
      "Precision for test set: 0.00%\n",
      "Recall for test set: 0.00%\n"
     ]
    },
    {
     "name": "stderr",
     "output_type": "stream",
     "text": [
      "/anaconda3/lib/python3.6/site-packages/sklearn/metrics/classification.py:1135: UndefinedMetricWarning: Precision is ill-defined and being set to 0.0 due to no predicted samples.\n",
      "  'precision', 'predicted', average, warn_for)\n"
     ]
    }
   ],
   "source": [
    "y_test_pred = rf.predict(X_test)\n",
    "\n",
    "accuracy = metrics.accuracy_score(y_test, y_test_pred)\n",
    "print('Accuracy for test set: %.2f%%' % (accuracy * 100.0))\n",
    "\n",
    "precision = metrics.precision_score(y_test, y_test_pred)\n",
    "print('Precision for test set: %.2f%%' % (precision * 100.0))\n",
    "\n",
    "recall = metrics.recall_score(y_test, y_test_pred)\n",
    "print('Recall for test set: %.2f%%' % (recall * 100.0))"
   ]
  },
  {
   "cell_type": "markdown",
   "metadata": {},
   "source": [
    "### What are the important features to this model"
   ]
  },
  {
   "cell_type": "code",
   "execution_count": 37,
   "metadata": {},
   "outputs": [
    {
     "data": {
      "text/plain": [
       "<matplotlib.axes._subplots.AxesSubplot at 0x1c26c61eb8>"
      ]
     },
     "execution_count": 37,
     "metadata": {},
     "output_type": "execute_result"
    },
    {
     "data": {
      "image/png": "[encoded data removed]",
      "text/plain": [
       "<Figure size 432x288 with 1 Axes>"
      ]
     },
     "metadata": {},
     "output_type": "display_data"
    }
   ],
   "source": [
    "# decision trees can give us feature importances. the higher the number the more important\n",
    "# the predictor was to deciding splits at nodes.\n",
    "# \"The importance of a feature is computed as the (normalized) total reduction of the \n",
    "# criterion brought by that feature.\"\n",
    "#\n",
    "feature_importances = rf.feature_importances_\n",
    "\n",
    "importances = list(zip(rf.feature_importances_, X.columns))\n",
    "importances.sort(reverse=True)\n",
    "\n",
    "pd.DataFrame(importances, index=[x for (_,x) in importances]).plot(kind = 'bar')"
   ]
  },
  {
   "cell_type": "markdown",
   "metadata": {},
   "source": [
    "### ROC Curve\n",
    "Receiver Operating Characteristic(ROC) curve is a plot of the true positive rate against the false positive rate. It shows the tradeoff between sensitivity and specificity.\n",
    "\n",
    "- AUC score for the case is 0.45. AUC score 1 represents perfect classifier, and 0.45 represents a worthless classifier. This has been a consistent score."
   ]
  },
  {
   "cell_type": "code",
   "execution_count": 38,
   "metadata": {},
   "outputs": [
    {
     "data": {
      "text/plain": [
       "(0.0, 1.0)"
      ]
     },
     "execution_count": 38,
     "metadata": {},
     "output_type": "execute_result"
    },
    {
     "data": {
      "image/png": "[encoded data removed]",
      "text/plain": [
       "<Figure size 432x288 with 2 Axes>"
      ]
     },
     "metadata": {},
     "output_type": "display_data"
    }
   ],
   "source": [
    "y_pred_proba = rf.predict_proba(X_test)[::,1]\n",
    "\n",
    "\n",
    "fpr, tpr, thresholds = metrics.roc_curve(y_test, y_pred_proba)\n",
    "\n",
    "roc_auc = metrics.auc(fpr,tpr)\n",
    "\n",
    "# Plot ROC\n",
    "plt.title('Receiver Operating Characteristic')\n",
    "plt.plot(fpr, tpr, 'b',label='AUC = %0.3f'% roc_auc)\n",
    "plt.legend(loc='lower right')\n",
    "plt.plot([0,1],[0,1],'r--')\n",
    "plt.xlim([-0.1,1.0])\n",
    "plt.ylim([-0.1,1.01])\n",
    "plt.ylabel('True Positive Rate')\n",
    "plt.xlabel('False Positive Rate')\n",
    "\n",
    "# create the axis of thresholds (scores)\n",
    "ax2 = plt.gca().twinx()\n",
    "ax2.plot(fpr, thresholds, markeredgecolor='k',linestyle='dashed', color='k')\n",
    "ax2.set_ylabel('Threshold',color='k')\n",
    "ax2.set_ylim([thresholds[-1],thresholds[0]])\n",
    "ax2.set_xlim([fpr[0],fpr[-1]])"
   ]
  },
  {
   "cell_type": "markdown",
   "metadata": {},
   "source": [
    "## Fitting and making predictions with Gradient Boost model.\n",
    "\n",
    "---"
   ]
  },
  {
   "cell_type": "markdown",
   "metadata": {},
   "source": [
    "### Gridsearch to find best parameters"
   ]
  },
  {
   "cell_type": "code",
   "execution_count": 40,
   "metadata": {},
   "outputs": [
    {
     "name": "stdout",
     "output_type": "stream",
     "text": [
      "Best parameters {'learning_rate': 0.1, 'max_depth': 1, 'n_estimators': 80, 'random_state': 42}\n",
      "Best Training Score: 90.91%\n",
      "Test Score: 88.24%\n"
     ]
    }
   ],
   "source": [
    "params = {\n",
    "    'n_estimators':[80,90,100],\n",
    "    'learning_rate':[.1,.11,.15],\n",
    "    'max_depth':[1,2,3],\n",
    "    'random_state':[42]\n",
    "}\n",
    "build_model(GradientBoostingClassifier(), params, \n",
    "            X_train_res, y_train_res.ravel(), X_test, y_test)"
   ]
  },
  {
   "cell_type": "markdown",
   "metadata": {},
   "source": [
    "### Build model with best parameters"
   ]
  },
  {
   "cell_type": "code",
   "execution_count": 41,
   "metadata": {},
   "outputs": [
    {
     "data": {
      "text/plain": [
       "GradientBoostingClassifier(criterion='friedman_mse', init=None,\n",
       "              learning_rate=0.11, loss='deviance', max_depth=1,\n",
       "              max_features=None, max_leaf_nodes=None,\n",
       "              min_impurity_decrease=0.0, min_impurity_split=None,\n",
       "              min_samples_leaf=1, min_samples_split=2,\n",
       "              min_weight_fraction_leaf=0.0, n_estimators=80,\n",
       "              presort='auto', random_state=42, subsample=1.0, verbose=0,\n",
       "              warm_start=False)"
      ]
     },
     "execution_count": 41,
     "metadata": {},
     "output_type": "execute_result"
    }
   ],
   "source": [
    "grad_boost = GradientBoostingClassifier(learning_rate=0.11,\n",
    "                                        max_depth=1,\n",
    "                                        n_estimators=80,\n",
    "                                        random_state=42)\n",
    "\n",
    "grad_boost.fit(X_train_res, y_train_res.ravel())"
   ]
  },
  {
   "cell_type": "markdown",
   "metadata": {},
   "source": [
    "### Confusion Matrix"
   ]
  },
  {
   "cell_type": "markdown",
   "metadata": {},
   "source": [
    "#### Evaluation Metrics\n",
    "Let's evaluate the model using model evaluation metrics such as accuracy, precision, and recall.\n",
    "\n",
    "- Accuracy: Classification rate of 96% for the training and 88.24% for the test, which are considered great accuracy.\n",
    "\n",
    "- Precision: Precision is about being precise, i.e., how accurate your model is. In other words, you can say, when a model makes a prediction, how often it is correct. In this  case, the training set was correct 100% of the time but the test set was 0% of the time.\n",
    "\n",
    "- Recall: Sensitivity number is 66.67% for the training set but is 0% for the test set"
   ]
  },
  {
   "cell_type": "code",
   "execution_count": 44,
   "metadata": {},
   "outputs": [
    {
     "name": "stdout",
     "output_type": "stream",
     "text": [
      "Accuracy for training set: 96.00%\n",
      "Precision for training set: 100.00%\n",
      "Recall for training set: 66.67%\n"
     ]
    }
   ],
   "source": [
    "y_train_pred = grad_boost.predict(X_train)\n",
    "\n",
    "accuracy = metrics.accuracy_score(y_train, y_train_pred)\n",
    "print('Accuracy for training set: %.2f%%' % (accuracy * 100.0))\n",
    "\n",
    "precision = metrics.precision_score(y_train, y_train_pred)\n",
    "print('Precision for training set: %.2f%%' % (precision * 100.0))\n",
    "\n",
    "recall = metrics.recall_score(y_train, y_train_pred)\n",
    "print('Recall for training set: %.2f%%' % (recall * 100.0))"
   ]
  },
  {
   "cell_type": "code",
   "execution_count": 45,
   "metadata": {},
   "outputs": [
    {
     "name": "stdout",
     "output_type": "stream",
     "text": [
      "Accuracy for test set: 88.24%\n",
      "Precision for test set: 0.00%\n",
      "Recall for test set: 0.00%\n"
     ]
    },
    {
     "name": "stderr",
     "output_type": "stream",
     "text": [
      "/anaconda3/lib/python3.6/site-packages/sklearn/metrics/classification.py:1135: UndefinedMetricWarning: Precision is ill-defined and being set to 0.0 due to no predicted samples.\n",
      "  'precision', 'predicted', average, warn_for)\n"
     ]
    }
   ],
   "source": [
    "y_test_pred = grad_boost.predict(X_test)\n",
    "\n",
    "accuracy = metrics.accuracy_score(y_test, y_test_pred)\n",
    "print('Accuracy for test set: %.2f%%' % (accuracy * 100.0))\n",
    "\n",
    "precision = metrics.precision_score(y_test, y_test_pred)\n",
    "print('Precision for test set: %.2f%%' % (precision * 100.0))\n",
    "\n",
    "recall = metrics.recall_score(y_test, y_test_pred)\n",
    "print('Recall for test set: %.2f%%' % (recall * 100.0))"
   ]
  },
  {
   "cell_type": "markdown",
   "metadata": {},
   "source": [
    "### What are the important features to this model"
   ]
  },
  {
   "cell_type": "code",
   "execution_count": 46,
   "metadata": {},
   "outputs": [
    {
     "data": {
      "text/plain": [
       "<matplotlib.axes._subplots.AxesSubplot at 0x1c35762860>"
      ]
     },
     "execution_count": 46,
     "metadata": {},
     "output_type": "execute_result"
    },
    {
     "data": {
      "image/png": "[encoded data removed]",
      "text/plain": [
       "<Figure size 432x288 with 1 Axes>"
      ]
     },
     "metadata": {},
     "output_type": "display_data"
    }
   ],
   "source": [
    "# decision trees can give us feature importances. the higher the number the more important\n",
    "# the predictor was to deciding splits at nodes.\n",
    "# \"The importance of a feature is computed as the (normalized) total reduction of the \n",
    "# criterion brought by that feature.\"\n",
    "#\n",
    "feature_importances = grad_boost.feature_importances_\n",
    "\n",
    "importances = list(zip(grad_boost.feature_importances_, X.columns))\n",
    "importances.sort(reverse=True)\n",
    "\n",
    "pd.DataFrame(importances, index=[x for (_,x) in importances]).plot(kind = 'bar')"
   ]
  },
  {
   "cell_type": "markdown",
   "metadata": {},
   "source": [
    "### ROC Curve\n",
    "Receiver Operating Characteristic(ROC) curve is a plot of the true positive rate against the false positive rate. It shows the tradeoff between sensitivity and specificity.\n",
    "\n",
    "- AUC score for the case is 0.45. AUC score 1 represents perfect classifier, and 0.45 represents a worthless classifier. This has been a consistent score."
   ]
  },
  {
   "cell_type": "code",
   "execution_count": 47,
   "metadata": {},
   "outputs": [
    {
     "data": {
      "text/plain": [
       "(0.0, 1.0)"
      ]
     },
     "execution_count": 47,
     "metadata": {},
     "output_type": "execute_result"
    },
    {
     "data": {
      "image/png": "[encoded data removed]",
      "text/plain": [
       "<Figure size 432x288 with 2 Axes>"
      ]
     },
     "metadata": {},
     "output_type": "display_data"
    }
   ],
   "source": [
    "y_pred_proba = grad_boost.predict_proba(X_test)[::,1]\n",
    "\n",
    "\n",
    "fpr, tpr, thresholds = metrics.roc_curve(y_test, y_pred_proba)\n",
    "\n",
    "roc_auc = metrics.auc(fpr,tpr)\n",
    "\n",
    "# Plot ROC\n",
    "plt.title('Receiver Operating Characteristic')\n",
    "plt.plot(fpr, tpr, 'b',label='AUC = %0.3f'% roc_auc)\n",
    "plt.legend(loc='lower right')\n",
    "plt.plot([0,1],[0,1],'r--')\n",
    "plt.xlim([-0.1,1.0])\n",
    "plt.ylim([-0.1,1.01])\n",
    "plt.ylabel('True Positive Rate')\n",
    "plt.xlabel('False Positive Rate')\n",
    "\n",
    "# create the axis of thresholds (scores)\n",
    "ax2 = plt.gca().twinx()\n",
    "ax2.plot(fpr, thresholds, markeredgecolor='k',linestyle='dashed', color='k')\n",
    "ax2.set_ylabel('Threshold',color='k')\n",
    "ax2.set_ylim([thresholds[-1],thresholds[0]])\n",
    "ax2.set_xlim([fpr[0],fpr[-1]])"
   ]
  },
  {
   "cell_type": "markdown",
   "metadata": {},
   "source": [
    "## Fitting and making predictions with KNeighborsClassifier model.\n",
    "\n",
    "---"
   ]
  },
  {
   "cell_type": "markdown",
   "metadata": {},
   "source": [
    "#### Instantiate KNN\n",
    "\n",
    "For the `KNeighborsClassifier`, there a few important parameters to keep in mind:\n",
    "\n",
    "1. `n_neighbors`: this is the \"K\" in KNN. The best K will change from problem to problem, but the default is 5.\n",
    "2. `weights`: The neighbors can all have an equal vote (`uniform`), or the closer points can have a higher weighted vote (`distance`).\n",
    "3. `p`: The distance metric. The default is Euclidean distance (2). Changing it to 1 is setting the distance to Manhattan.\n",
    "\n",
    "In the cell below, instantiate a `knn` model using the default parameters."
   ]
  },
  {
   "cell_type": "code",
   "execution_count": 112,
   "metadata": {},
   "outputs": [],
   "source": [
    "# Because these are dummy vaiables scaling is not required\n",
    "features = ['Cycle_QUATERNARY', \n",
    "            'Cycle_SECONDARY', \n",
    "            'Cycle_TERTIARY', \n",
    "           ]\n",
    "\n",
    "X_knn = df[features]\n",
    "y_knn = df['Paid']\n",
    "\n",
    "# Split dataset into training set and test set 70% training and 30% test\n",
    "X_train, X_test, y_train, y_test = train_test_split(X_knn, y_knn, test_size=0.3) "
   ]
  },
  {
   "cell_type": "markdown",
   "metadata": {},
   "source": [
    "### SMOTE (Synthetic Minority Over-sampling Technique)"
   ]
  },
  {
   "cell_type": "code",
   "execution_count": 113,
   "metadata": {},
   "outputs": [
    {
     "name": "stdout",
     "output_type": "stream",
     "text": [
      "Before OverSampling, counts of label '1': 4\n",
      "Before OverSampling, counts of label '0': 25 \n",
      "\n",
      "After OverSampling, the shape of train_X: (50, 3)\n",
      "After OverSampling, the shape of train_y: (50,) \n",
      "\n",
      "After OverSampling, counts of label '1': 25\n",
      "After OverSampling, counts of label '0': 25\n"
     ]
    }
   ],
   "source": [
    "print(\"Before OverSampling, counts of label '1': {}\".format(sum(y_train==1)))\n",
    "print(\"Before OverSampling, counts of label '0': {} \\n\".format(sum(y_train==0)))\n",
    "\n",
    "sm = SMOTE(k_neighbors=1,random_state=42)\n",
    "X_train_res, y_train_res = sm.fit_sample(X_train, y_train.ravel())\n",
    "\n",
    "print('After OverSampling, the shape of train_X: {}'.format(X_train_res.shape))\n",
    "print('After OverSampling, the shape of train_y: {} \\n'.format(y_train_res.shape))\n",
    "\n",
    "print(\"After OverSampling, counts of label '1': {}\".format(sum(y_train_res==1)))\n",
    "print(\"After OverSampling, counts of label '0': {}\".format(sum(y_train_res==0)))"
   ]
  },
  {
   "cell_type": "markdown",
   "metadata": {},
   "source": [
    "### Gridsearch to find best parameters"
   ]
  },
  {
   "cell_type": "code",
   "execution_count": 114,
   "metadata": {},
   "outputs": [
    {
     "name": "stdout",
     "output_type": "stream",
     "text": [
      "Best parameters {'algorithm': 'auto', 'n_neighbors': 3}\n",
      "Best Training Score: 54.00%\n",
      "Test Score: 92.31%\n"
     ]
    }
   ],
   "source": [
    "params = {\n",
    "    'n_neighbors':[3,5,7],\n",
    "    'algorithm':['auto']\n",
    "}\n",
    "build_model(KNeighborsClassifier(), params, \n",
    "            X_train_res, y_train_res.ravel(), X_test, y_test)"
   ]
  },
  {
   "cell_type": "markdown",
   "metadata": {},
   "source": [
    "### Build model with best parameters"
   ]
  },
  {
   "cell_type": "code",
   "execution_count": 115,
   "metadata": {},
   "outputs": [
    {
     "data": {
      "text/plain": [
       "KNeighborsClassifier(algorithm='auto', leaf_size=30, metric='minkowski',\n",
       "           metric_params=None, n_jobs=1, n_neighbors=8, p=2,\n",
       "           weights='uniform')"
      ]
     },
     "execution_count": 115,
     "metadata": {},
     "output_type": "execute_result"
    }
   ],
   "source": [
    "knn = KNeighborsClassifier(algorithm='auto',\n",
    "                           n_neighbors=8)\n",
    "knn.fit(X_train_res, y_train_res.ravel())"
   ]
  },
  {
   "cell_type": "markdown",
   "metadata": {},
   "source": [
    "### Confusion Matrix"
   ]
  },
  {
   "cell_type": "markdown",
   "metadata": {},
   "source": [
    "#### Evaluation Metrics\n",
    "Let's evaluate the model using model evaluation metrics such as accuracy, precision, and recall.\n",
    "\n",
    "- Accuracy: Classification rate of 86.12% for the training and 92.31% for the test, which are considered great accuracy.\n",
    "\n",
    "- Precision: Precision is about being precise, i.e., how accurate your model is. In other words, you can say, when a model makes a prediction, how often it is correct. In this  case, the training set was correct 0% of the time but the test set was 0% of the time.\n",
    "\n",
    "- Recall: Sensitivity number is 0% for the training set but is 0% for the test set"
   ]
  },
  {
   "cell_type": "code",
   "execution_count": 116,
   "metadata": {},
   "outputs": [
    {
     "name": "stdout",
     "output_type": "stream",
     "text": [
      "Accuracy for training set: 86.21%\n",
      "Precision for training set: 0.00%\n",
      "Recall for training set: 0.00%\n"
     ]
    },
    {
     "name": "stderr",
     "output_type": "stream",
     "text": [
      "/anaconda3/lib/python3.6/site-packages/sklearn/metrics/classification.py:1135: UndefinedMetricWarning: Precision is ill-defined and being set to 0.0 due to no predicted samples.\n",
      "  'precision', 'predicted', average, warn_for)\n"
     ]
    }
   ],
   "source": [
    "y_train_pred = knn.predict(X_train)\n",
    "\n",
    "accuracy = metrics.accuracy_score(y_train, y_train_pred)\n",
    "print('Accuracy for training set: %.2f%%' % (accuracy * 100.0))\n",
    "\n",
    "precision = metrics.precision_score(y_train, y_train_pred)\n",
    "print('Precision for training set: %.2f%%' % (precision * 100.0))\n",
    "\n",
    "recall = metrics.recall_score(y_train, y_train_pred)\n",
    "print('Recall for training set: %.2f%%' % (recall * 100.0))"
   ]
  },
  {
   "cell_type": "code",
   "execution_count": 117,
   "metadata": {},
   "outputs": [
    {
     "name": "stdout",
     "output_type": "stream",
     "text": [
      "Accuracy for test set: 92.31%\n",
      "Precision for test set: 0.00%\n",
      "Recall for test set: 0.00%\n"
     ]
    },
    {
     "name": "stderr",
     "output_type": "stream",
     "text": [
      "/anaconda3/lib/python3.6/site-packages/sklearn/metrics/classification.py:1135: UndefinedMetricWarning: Precision is ill-defined and being set to 0.0 due to no predicted samples.\n",
      "  'precision', 'predicted', average, warn_for)\n"
     ]
    }
   ],
   "source": [
    "y_test_pred = knn.predict(X_test)\n",
    "\n",
    "accuracy = metrics.accuracy_score(y_test, y_test_pred)\n",
    "print('Accuracy for test set: %.2f%%' % (accuracy * 100.0))\n",
    "\n",
    "precision = metrics.precision_score(y_test, y_test_pred)\n",
    "print('Precision for test set: %.2f%%' % (precision * 100.0))\n",
    "\n",
    "recall = metrics.recall_score(y_test, y_test_pred)\n",
    "print('Recall for test set: %.2f%%' % (recall * 100.0))"
   ]
  },
  {
   "cell_type": "markdown",
   "metadata": {},
   "source": [
    "### ROC Curve\n",
    "Receiver Operating Characteristic(ROC) curve is a plot of the true positive rate against the false positive rate. It shows the tradeoff between sensitivity and specificity.\n",
    "\n",
    "- AUC score for the case is 0.45. AUC score 1 represents perfect classifier, and 0.45 represents a worthless classifier. This has been a consistent score."
   ]
  },
  {
   "cell_type": "code",
   "execution_count": 118,
   "metadata": {},
   "outputs": [
    {
     "data": {
      "text/plain": [
       "(0.0, 1.0)"
      ]
     },
     "execution_count": 118,
     "metadata": {},
     "output_type": "execute_result"
    },
    {
     "data": {
      "image/png": "[encoded data removed]",
      "text/plain": [
       "<Figure size 432x288 with 2 Axes>"
      ]
     },
     "metadata": {},
     "output_type": "display_data"
    }
   ],
   "source": [
    "y_pred_proba = knn.predict_proba(X_test)[::,1]\n",
    "\n",
    "\n",
    "fpr, tpr, thresholds = metrics.roc_curve(y_test, y_pred_proba)\n",
    "\n",
    "roc_auc = metrics.auc(fpr,tpr)\n",
    "\n",
    "# Plot ROC\n",
    "plt.title('Receiver Operating Characteristic')\n",
    "plt.plot(fpr, tpr, 'b',label='AUC = %0.3f'% roc_auc)\n",
    "plt.legend(loc='lower right')\n",
    "plt.plot([0,1],[0,1],'r--')\n",
    "plt.xlim([-0.1,1.0])\n",
    "plt.ylim([-0.1,1.01])\n",
    "plt.ylabel('True Positive Rate')\n",
    "plt.xlabel('False Positive Rate')\n",
    "\n",
    "# create the axis of thresholds (scores)\n",
    "ax2 = plt.gca().twinx()\n",
    "ax2.plot(fpr, thresholds, markeredgecolor='k',linestyle='dashed', color='k')\n",
    "ax2.set_ylabel('Threshold',color='k')\n",
    "ax2.set_ylim([thresholds[-1],thresholds[0]])\n",
    "ax2.set_xlim([fpr[0],fpr[-1]])"
   ]
  },
  {
   "cell_type": "code",
   "execution_count": null,
   "metadata": {},
   "outputs": [],
   "source": []
  }
 ],
 "metadata": {
  "kernelspec": {
   "display_name": "Python 3",
   "language": "python",
   "name": "python3"
  },
  "language_info": {
   "codemirror_mode": {
    "name": "ipython",
    "version": 3
   },
   "file_extension": ".py",
   "mimetype": "text/x-python",
   "name": "python",
   "nbconvert_exporter": "python",
   "pygments_lexer": "ipython3",
   "version": "3.6.5"
  }
 },
 "nbformat": 4,
 "nbformat_minor": 2
}
