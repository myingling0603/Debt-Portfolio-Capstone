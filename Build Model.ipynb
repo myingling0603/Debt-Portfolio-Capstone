{
 "cells": [
  {
   "cell_type": "code",
   "execution_count": 20,
   "metadata": {},
   "outputs": [],
   "source": [
    "import pandas as pd\n",
    "import math\n",
    "import numpy as np\n",
    "import statsmodels.api as sm\n",
    "import matplotlib.pyplot as plt\n",
    "from sklearn.model_selection import train_test_split, KFold, cross_val_score\n",
    "from sklearn.naive_bayes import MultinomialNB\n",
    "from sklearn.metrics import confusion_matrix\n",
    "from sklearn.linear_model import LogisticRegression, LinearRegression\n",
    "\n",
    "%matplotlib inline"
   ]
  },
  {
   "cell_type": "code",
   "execution_count": 2,
   "metadata": {},
   "outputs": [],
   "source": [
    "df = pd.read_excel('./Data/File1.xlsx')"
   ]
  },
  {
   "cell_type": "code",
   "execution_count": 3,
   "metadata": {
    "scrolled": false
   },
   "outputs": [
    {
     "name": "stdout",
     "output_type": "stream",
     "text": [
      "<class 'pandas.core.frame.DataFrame'>\n",
      "RangeIndex: 42 entries, 0 to 41\n",
      "Data columns (total 28 columns):\n",
      "Account Number        42 non-null int64\n",
      "PortID                42 non-null object\n",
      "Remaining Balance     42 non-null float64\n",
      "interests Fees        42 non-null float64\n",
      "Date Opened           42 non-null datetime64[ns]\n",
      "Charge Off Date       42 non-null datetime64[ns]\n",
      "Last Pay Date         38 non-null datetime64[ns]\n",
      "Last Pay Amount       42 non-null float64\n",
      "Last Activity Date    42 non-null datetime64[ns]\n",
      "Interest Rate %       42 non-null float64\n",
      "Issuer                42 non-null object\n",
      "Merchant              42 non-null object\n",
      "FCFRA Date            42 non-null datetime64[ns]\n",
      "OOS Date              42 non-null datetime64[ns]\n",
      "Account Type          42 non-null object\n",
      "Last Name             42 non-null object\n",
      "First Name            42 non-null object\n",
      "Middle Name           28 non-null object\n",
      "Address               42 non-null object\n",
      "City                  42 non-null object\n",
      "State                 42 non-null object\n",
      "Zip                   42 non-null object\n",
      "County                42 non-null object\n",
      "SSN                   42 non-null int64\n",
      "Home Phone            42 non-null int64\n",
      "Employer Phone        42 non-null int64\n",
      "Cycle                 42 non-null object\n",
      "Paid                  42 non-null int64\n",
      "dtypes: datetime64[ns](6), float64(4), int64(5), object(13)\n",
      "memory usage: 9.3+ KB\n"
     ]
    }
   ],
   "source": [
    "df.info()"
   ]
  },
  {
   "cell_type": "code",
   "execution_count": 4,
   "metadata": {},
   "outputs": [
    {
     "data": {
      "text/plain": [
       "array([<matplotlib.axes._subplots.AxesSubplot object at 0x1c1ae86048>,\n",
       "       <matplotlib.axes._subplots.AxesSubplot object at 0x1c1af630f0>],\n",
       "      dtype=object)"
      ]
     },
     "execution_count": 4,
     "metadata": {},
     "output_type": "execute_result"
    },
    {
     "data": {
      "image/png": "[encoded data removed]",
      "text/plain": [
       "<Figure size 432x288 with 2 Axes>"
      ]
     },
     "metadata": {},
     "output_type": "display_data"
    }
   ],
   "source": [
    "df.boxplot(['Interest Rate %', 'Remaining Balance'], by='Paid')"
   ]
  },
  {
   "cell_type": "code",
   "execution_count": 5,
   "metadata": {},
   "outputs": [
    {
     "data": {
      "text/html": [
       "<table class=\"simpletable\">\n",
       "<caption>Generalized Linear Model Regression Results</caption>\n",
       "<tr>\n",
       "  <th>Dep. Variable:</th>        <td>Paid</td>       <th>  No. Observations:  </th>  <td>    42</td>  \n",
       "</tr>\n",
       "<tr>\n",
       "  <th>Model:</th>                 <td>GLM</td>       <th>  Df Residuals:      </th>  <td>    39</td>  \n",
       "</tr>\n",
       "<tr>\n",
       "  <th>Model Family:</th>       <td>Binomial</td>     <th>  Df Model:          </th>  <td>     2</td>  \n",
       "</tr>\n",
       "<tr>\n",
       "  <th>Link Function:</th>        <td>logit</td>      <th>  Scale:             </th> <td>  1.0000</td> \n",
       "</tr>\n",
       "<tr>\n",
       "  <th>Method:</th>               <td>IRLS</td>       <th>  Log-Likelihood:    </th> <td> -15.117</td> \n",
       "</tr>\n",
       "<tr>\n",
       "  <th>Date:</th>           <td>Mon, 01 Oct 2018</td> <th>  Deviance:          </th> <td>  30.235</td> \n",
       "</tr>\n",
       "<tr>\n",
       "  <th>Time:</th>               <td>14:16:04</td>     <th>  Pearson chi2:      </th>  <td>  43.0</td>  \n",
       "</tr>\n",
       "<tr>\n",
       "  <th>No. Iterations:</th>         <td>5</td>        <th>  Covariance Type:   </th> <td>nonrobust</td>\n",
       "</tr>\n",
       "</table>\n",
       "<table class=\"simpletable\">\n",
       "<tr>\n",
       "          <td></td>             <th>coef</th>     <th>std err</th>      <th>z</th>      <th>P>|z|</th>  <th>[0.025</th>    <th>0.975]</th>  \n",
       "</tr>\n",
       "<tr>\n",
       "  <th>const</th>             <td>   -1.6212</td> <td>    1.186</td> <td>   -1.367</td> <td> 0.171</td> <td>   -3.945</td> <td>    0.702</td>\n",
       "</tr>\n",
       "<tr>\n",
       "  <th>Interest Rate %</th>   <td>   -0.8448</td> <td>    9.688</td> <td>   -0.087</td> <td> 0.931</td> <td>  -19.834</td> <td>   18.144</td>\n",
       "</tr>\n",
       "<tr>\n",
       "  <th>Remaining Balance</th> <td>-7.782e-05</td> <td>    0.000</td> <td>   -0.604</td> <td> 0.546</td> <td>   -0.000</td> <td>    0.000</td>\n",
       "</tr>\n",
       "</table>"
      ],
      "text/plain": [
       "<class 'statsmodels.iolib.summary.Summary'>\n",
       "\"\"\"\n",
       "                 Generalized Linear Model Regression Results                  \n",
       "==============================================================================\n",
       "Dep. Variable:                   Paid   No. Observations:                   42\n",
       "Model:                            GLM   Df Residuals:                       39\n",
       "Model Family:                Binomial   Df Model:                            2\n",
       "Link Function:                  logit   Scale:                          1.0000\n",
       "Method:                          IRLS   Log-Likelihood:                -15.117\n",
       "Date:                Mon, 01 Oct 2018   Deviance:                       30.235\n",
       "Time:                        14:16:04   Pearson chi2:                     43.0\n",
       "No. Iterations:                     5   Covariance Type:             nonrobust\n",
       "=====================================================================================\n",
       "                        coef    std err          z      P>|z|      [0.025      0.975]\n",
       "-------------------------------------------------------------------------------------\n",
       "const                -1.6212      1.186     -1.367      0.171      -3.945       0.702\n",
       "Interest Rate %      -0.8448      9.688     -0.087      0.931     -19.834      18.144\n",
       "Remaining Balance -7.782e-05      0.000     -0.604      0.546      -0.000       0.000\n",
       "=====================================================================================\n",
       "\"\"\""
      ]
     },
     "execution_count": 5,
     "metadata": {},
     "output_type": "execute_result"
    }
   ],
   "source": [
    "# Now, let's build our GLM\n",
    "indep_vars = ['Interest Rate %', 'Remaining Balance']\n",
    "X = sm.add_constant(df[indep_vars]) # Must add the intercept\n",
    "y = df.Paid\n",
    "\n",
    "glm_logit = sm.GLM(y, \n",
    "                   X,\n",
    "                   sm.families.Binomial(sm.families.links.logit))\n",
    "results_logit = glm_logit.fit()\n",
    "\n",
    "results_logit.summary()"
   ]
  },
  {
   "cell_type": "markdown",
   "metadata": {},
   "source": [
    "- As the interest rate increases by 1% the odds of them paying back decrease by 84%"
   ]
  },
  {
   "cell_type": "code",
   "execution_count": 6,
   "metadata": {},
   "outputs": [
    {
     "data": {
      "text/html": [
       "<div>\n",
       "<style scoped>\n",
       "    .dataframe tbody tr th:only-of-type {\n",
       "        vertical-align: middle;\n",
       "    }\n",
       "\n",
       "    .dataframe tbody tr th {\n",
       "        vertical-align: top;\n",
       "    }\n",
       "\n",
       "    .dataframe thead th {\n",
       "        text-align: right;\n",
       "    }\n",
       "</style>\n",
       "<table border=\"1\" class=\"dataframe\">\n",
       "  <thead>\n",
       "    <tr style=\"text-align: right;\">\n",
       "      <th></th>\n",
       "      <th>Account Number</th>\n",
       "      <th>PortID</th>\n",
       "      <th>Remaining Balance</th>\n",
       "      <th>interests Fees</th>\n",
       "      <th>Date Opened</th>\n",
       "      <th>Charge Off Date</th>\n",
       "      <th>Last Pay Date</th>\n",
       "      <th>Last Pay Amount</th>\n",
       "      <th>Last Activity Date</th>\n",
       "      <th>Interest Rate %</th>\n",
       "      <th>...</th>\n",
       "      <th>State</th>\n",
       "      <th>Zip</th>\n",
       "      <th>County</th>\n",
       "      <th>SSN</th>\n",
       "      <th>Home Phone</th>\n",
       "      <th>Employer Phone</th>\n",
       "      <th>Paid</th>\n",
       "      <th>Cycle_QUATERNARY</th>\n",
       "      <th>Cycle_SECONDARY</th>\n",
       "      <th>Cycle_TERTIARY</th>\n",
       "    </tr>\n",
       "  </thead>\n",
       "  <tbody>\n",
       "    <tr>\n",
       "      <th>0</th>\n",
       "      <td>4071580080012050</td>\n",
       "      <td>FUS0813</td>\n",
       "      <td>6020.73</td>\n",
       "      <td>1352.43</td>\n",
       "      <td>1989-10-17</td>\n",
       "      <td>2005-12-30</td>\n",
       "      <td>NaT</td>\n",
       "      <td>200.0</td>\n",
       "      <td>2006-06-28</td>\n",
       "      <td>0.0800</td>\n",
       "      <td>...</td>\n",
       "      <td>CO</td>\n",
       "      <td>80203-4205</td>\n",
       "      <td>DENVER</td>\n",
       "      <td>287567934</td>\n",
       "      <td>3039418940</td>\n",
       "      <td>3036752373</td>\n",
       "      <td>0</td>\n",
       "      <td>0</td>\n",
       "      <td>0</td>\n",
       "      <td>1</td>\n",
       "    </tr>\n",
       "    <tr>\n",
       "      <th>1</th>\n",
       "      <td>4253294210011880</td>\n",
       "      <td>FUS0739</td>\n",
       "      <td>778.20</td>\n",
       "      <td>160.41</td>\n",
       "      <td>2005-06-03</td>\n",
       "      <td>2006-03-31</td>\n",
       "      <td>NaT</td>\n",
       "      <td>0.0</td>\n",
       "      <td>2005-06-03</td>\n",
       "      <td>0.0800</td>\n",
       "      <td>...</td>\n",
       "      <td>CO</td>\n",
       "      <td>80011-9052</td>\n",
       "      <td>ADAMS</td>\n",
       "      <td>523755675</td>\n",
       "      <td>3036800451</td>\n",
       "      <td>3036803635</td>\n",
       "      <td>0</td>\n",
       "      <td>0</td>\n",
       "      <td>0</td>\n",
       "      <td>1</td>\n",
       "    </tr>\n",
       "    <tr>\n",
       "      <th>2</th>\n",
       "      <td>4266493601904600</td>\n",
       "      <td>FUS0422</td>\n",
       "      <td>404.68</td>\n",
       "      <td>711.87</td>\n",
       "      <td>1995-09-01</td>\n",
       "      <td>2003-04-30</td>\n",
       "      <td>2002-09-08</td>\n",
       "      <td>0.0</td>\n",
       "      <td>2002-09-08</td>\n",
       "      <td>0.1924</td>\n",
       "      <td>...</td>\n",
       "      <td>CO</td>\n",
       "      <td>80221-2732</td>\n",
       "      <td>ADAMS</td>\n",
       "      <td>523710822</td>\n",
       "      <td>3034879164</td>\n",
       "      <td>9999999999</td>\n",
       "      <td>0</td>\n",
       "      <td>0</td>\n",
       "      <td>1</td>\n",
       "      <td>0</td>\n",
       "    </tr>\n",
       "    <tr>\n",
       "      <th>3</th>\n",
       "      <td>4266513023392740</td>\n",
       "      <td>FUS0560</td>\n",
       "      <td>502.26</td>\n",
       "      <td>718.72</td>\n",
       "      <td>1999-11-17</td>\n",
       "      <td>2003-12-31</td>\n",
       "      <td>2003-08-07</td>\n",
       "      <td>0.0</td>\n",
       "      <td>2003-08-07</td>\n",
       "      <td>0.1999</td>\n",
       "      <td>...</td>\n",
       "      <td>CO</td>\n",
       "      <td>80206-3522</td>\n",
       "      <td>DENVER</td>\n",
       "      <td>522234200</td>\n",
       "      <td>3036980983</td>\n",
       "      <td>9999999999</td>\n",
       "      <td>0</td>\n",
       "      <td>0</td>\n",
       "      <td>0</td>\n",
       "      <td>1</td>\n",
       "    </tr>\n",
       "    <tr>\n",
       "      <th>4</th>\n",
       "      <td>4266812001671530</td>\n",
       "      <td>FUS0722</td>\n",
       "      <td>6482.89</td>\n",
       "      <td>1654.38</td>\n",
       "      <td>1998-09-13</td>\n",
       "      <td>2005-09-30</td>\n",
       "      <td>2005-02-10</td>\n",
       "      <td>150.0</td>\n",
       "      <td>2005-02-10</td>\n",
       "      <td>0.0800</td>\n",
       "      <td>...</td>\n",
       "      <td>CO</td>\n",
       "      <td>80229-7910</td>\n",
       "      <td>ADAMS</td>\n",
       "      <td>522533406</td>\n",
       "      <td>3032875899</td>\n",
       "      <td>3032886677</td>\n",
       "      <td>0</td>\n",
       "      <td>0</td>\n",
       "      <td>0</td>\n",
       "      <td>1</td>\n",
       "    </tr>\n",
       "  </tbody>\n",
       "</table>\n",
       "<p>5 rows × 30 columns</p>\n",
       "</div>"
      ],
      "text/plain": [
       "     Account Number   PortID  Remaining Balance  interests Fees Date Opened  \\\n",
       "0  4071580080012050  FUS0813            6020.73         1352.43  1989-10-17   \n",
       "1  4253294210011880  FUS0739             778.20          160.41  2005-06-03   \n",
       "2  4266493601904600  FUS0422             404.68          711.87  1995-09-01   \n",
       "3  4266513023392740  FUS0560             502.26          718.72  1999-11-17   \n",
       "4  4266812001671530  FUS0722            6482.89         1654.38  1998-09-13   \n",
       "\n",
       "  Charge Off Date Last Pay Date  Last Pay Amount Last Activity Date  \\\n",
       "0      2005-12-30           NaT            200.0         2006-06-28   \n",
       "1      2006-03-31           NaT              0.0         2005-06-03   \n",
       "2      2003-04-30    2002-09-08              0.0         2002-09-08   \n",
       "3      2003-12-31    2003-08-07              0.0         2003-08-07   \n",
       "4      2005-09-30    2005-02-10            150.0         2005-02-10   \n",
       "\n",
       "   Interest Rate %      ...       State         Zip  County        SSN  \\\n",
       "0           0.0800      ...          CO  80203-4205  DENVER  287567934   \n",
       "1           0.0800      ...          CO  80011-9052   ADAMS  523755675   \n",
       "2           0.1924      ...          CO  80221-2732   ADAMS  523710822   \n",
       "3           0.1999      ...          CO  80206-3522  DENVER  522234200   \n",
       "4           0.0800      ...          CO  80229-7910   ADAMS  522533406   \n",
       "\n",
       "   Home Phone Employer Phone Paid Cycle_QUATERNARY Cycle_SECONDARY  \\\n",
       "0  3039418940     3036752373    0                0               0   \n",
       "1  3036800451     3036803635    0                0               0   \n",
       "2  3034879164     9999999999    0                0               1   \n",
       "3  3036980983     9999999999    0                0               0   \n",
       "4  3032875899     3032886677    0                0               0   \n",
       "\n",
       "  Cycle_TERTIARY  \n",
       "0              1  \n",
       "1              1  \n",
       "2              0  \n",
       "3              1  \n",
       "4              1  \n",
       "\n",
       "[5 rows x 30 columns]"
      ]
     },
     "execution_count": 6,
     "metadata": {},
     "output_type": "execute_result"
    }
   ],
   "source": [
    "# Dummy up the Cycle as this is an important feature\n",
    "\n",
    "df = pd.get_dummies(df, columns = ['Cycle'])\n",
    "df.head()"
   ]
  },
  {
   "cell_type": "code",
   "execution_count": 7,
   "metadata": {},
   "outputs": [
    {
     "data": {
      "text/html": [
       "<table class=\"simpletable\">\n",
       "<caption>Generalized Linear Model Regression Results</caption>\n",
       "<tr>\n",
       "  <th>Dep. Variable:</th>        <td>Paid</td>       <th>  No. Observations:  </th>  <td>    42</td>  \n",
       "</tr>\n",
       "<tr>\n",
       "  <th>Model:</th>                 <td>GLM</td>       <th>  Df Residuals:      </th>  <td>    39</td>  \n",
       "</tr>\n",
       "<tr>\n",
       "  <th>Model Family:</th>       <td>Binomial</td>     <th>  Df Model:          </th>  <td>     2</td>  \n",
       "</tr>\n",
       "<tr>\n",
       "  <th>Link Function:</th>        <td>logit</td>      <th>  Scale:             </th> <td>  1.0000</td> \n",
       "</tr>\n",
       "<tr>\n",
       "  <th>Method:</th>               <td>IRLS</td>       <th>  Log-Likelihood:    </th> <td> -12.897</td> \n",
       "</tr>\n",
       "<tr>\n",
       "  <th>Date:</th>           <td>Mon, 01 Oct 2018</td> <th>  Deviance:          </th> <td>  25.793</td> \n",
       "</tr>\n",
       "<tr>\n",
       "  <th>Time:</th>               <td>14:16:18</td>     <th>  Pearson chi2:      </th>  <td>  39.0</td>  \n",
       "</tr>\n",
       "<tr>\n",
       "  <th>No. Iterations:</th>        <td>22</td>        <th>  Covariance Type:   </th> <td>nonrobust</td>\n",
       "</tr>\n",
       "</table>\n",
       "<table class=\"simpletable\">\n",
       "<tr>\n",
       "          <td></td>            <th>coef</th>     <th>std err</th>      <th>z</th>      <th>P>|z|</th>  <th>[0.025</th>    <th>0.975]</th>  \n",
       "</tr>\n",
       "<tr>\n",
       "  <th>const</th>            <td>   -0.1673</td> <td> 2.95e+04</td> <td>-5.67e-06</td> <td> 1.000</td> <td>-5.78e+04</td> <td> 5.78e+04</td>\n",
       "</tr>\n",
       "<tr>\n",
       "  <th>Cycle_QUATERNARY</th> <td>   24.4173</td> <td> 8.44e+04</td> <td>    0.000</td> <td> 1.000</td> <td>-1.65e+05</td> <td> 1.65e+05</td>\n",
       "</tr>\n",
       "<tr>\n",
       "  <th>Cycle_SECONDARY</th>  <td>  -22.5827</td> <td> 3.96e+04</td> <td>   -0.001</td> <td> 1.000</td> <td>-7.76e+04</td> <td> 7.76e+04</td>\n",
       "</tr>\n",
       "<tr>\n",
       "  <th>Cycle_TERTIARY</th>   <td>   -2.0018</td> <td> 2.95e+04</td> <td>-6.79e-05</td> <td> 1.000</td> <td>-5.78e+04</td> <td> 5.78e+04</td>\n",
       "</tr>\n",
       "</table>"
      ],
      "text/plain": [
       "<class 'statsmodels.iolib.summary.Summary'>\n",
       "\"\"\"\n",
       "                 Generalized Linear Model Regression Results                  \n",
       "==============================================================================\n",
       "Dep. Variable:                   Paid   No. Observations:                   42\n",
       "Model:                            GLM   Df Residuals:                       39\n",
       "Model Family:                Binomial   Df Model:                            2\n",
       "Link Function:                  logit   Scale:                          1.0000\n",
       "Method:                          IRLS   Log-Likelihood:                -12.897\n",
       "Date:                Mon, 01 Oct 2018   Deviance:                       25.793\n",
       "Time:                        14:16:18   Pearson chi2:                     39.0\n",
       "No. Iterations:                    22   Covariance Type:             nonrobust\n",
       "====================================================================================\n",
       "                       coef    std err          z      P>|z|      [0.025      0.975]\n",
       "------------------------------------------------------------------------------------\n",
       "const               -0.1673   2.95e+04  -5.67e-06      1.000   -5.78e+04    5.78e+04\n",
       "Cycle_QUATERNARY    24.4173   8.44e+04      0.000      1.000   -1.65e+05    1.65e+05\n",
       "Cycle_SECONDARY    -22.5827   3.96e+04     -0.001      1.000   -7.76e+04    7.76e+04\n",
       "Cycle_TERTIARY      -2.0018   2.95e+04  -6.79e-05      1.000   -5.78e+04    5.78e+04\n",
       "====================================================================================\n",
       "\"\"\""
      ]
     },
     "execution_count": 7,
     "metadata": {},
     "output_type": "execute_result"
    }
   ],
   "source": [
    "# Now, let's build our GLM\n",
    "indep_vars = ['Cycle_QUATERNARY','Cycle_SECONDARY','Cycle_TERTIARY']\n",
    "X = sm.add_constant(df[indep_vars]) # Must add the intercept\n",
    "y = df.Paid\n",
    "\n",
    "glm_logit = sm.GLM(y, \n",
    "                   X,\n",
    "                   sm.families.Binomial(sm.families.links.logit))\n",
    "results_logit = glm_logit.fit()\n",
    "\n",
    "results_logit.summary()"
   ]
  },
  {
   "cell_type": "code",
   "execution_count": 8,
   "metadata": {},
   "outputs": [],
   "source": [
    "num_cols = df.columns[[np.issubdtype(dt, np.number) for dt in df.dtypes]]\n",
    "\n",
    "drop_cols = [key for key in dict(df.dtypes) \n",
    "                if dict(df.dtypes)[key] in ['datetime64[ns]', 'object']]\n",
    "\n",
    "# Add phone numbers to drop list\n",
    "# drop_cols.extend(('Employer Phone', 'Home Phone'))"
   ]
  },
  {
   "cell_type": "code",
   "execution_count": 9,
   "metadata": {},
   "outputs": [],
   "source": [
    "X = df.drop(columns = drop_cols)\n",
    "y = df['Paid']"
   ]
  },
  {
   "cell_type": "code",
   "execution_count": 10,
   "metadata": {},
   "outputs": [],
   "source": [
    "X_train, X_test, y_train, y_test = train_test_split(X, y, test_size=0.3, random_state=42)"
   ]
  },
  {
   "cell_type": "markdown",
   "metadata": {},
   "source": [
    "### Naive Bayes"
   ]
  },
  {
   "cell_type": "code",
   "execution_count": 18,
   "metadata": {},
   "outputs": [
    {
     "name": "stdout",
     "output_type": "stream",
     "text": [
      "Train Score 0.52\n",
      "Test Score 0.38\n"
     ]
    }
   ],
   "source": [
    "# Instantiate our model!\n",
    "nb = MultinomialNB()\n",
    "\n",
    "# Fit our model!\n",
    "model = nb.fit(X_train, y_train)\n",
    "\n",
    "# Generate our predictions!\n",
    "predictions = model.predict(X_test)\n",
    "\n",
    "print(\"Train Score {0:.2f}\".format(model.score(X_train, y_train)))\n",
    "\n",
    "print(\"Test Score {0:.2f}\".format(model.score(X_test, y_test)))"
   ]
  },
  {
   "cell_type": "markdown",
   "metadata": {},
   "source": [
    "### Confusion Matrix"
   ]
  },
  {
   "cell_type": "code",
   "execution_count": 16,
   "metadata": {},
   "outputs": [
    {
     "data": {
      "text/plain": [
       "array([[5, 7],\n",
       "       [1, 0]])"
      ]
     },
     "execution_count": 16,
     "metadata": {},
     "output_type": "execute_result"
    }
   ],
   "source": [
    "confusion_matrix(y_test, predictions)"
   ]
  },
  {
   "cell_type": "code",
   "execution_count": 17,
   "metadata": {},
   "outputs": [
    {
     "name": "stdout",
     "output_type": "stream",
     "text": [
      "True Negatives: 5\n",
      "False Positives: 7\n",
      "False Negatives: 1\n",
      "True Positives: 0\n"
     ]
    }
   ],
   "source": [
    "tn, fp, fn, tp = confusion_matrix(y_test, predictions).ravel()\n",
    "\n",
    "print(\"True Negatives: %s\" % tn)\n",
    "print(\"False Positives: %s\" % fp)\n",
    "print(\"False Negatives: %s\" % fn)\n",
    "print(\"True Positives: %s\" % tp)"
   ]
  },
  {
   "cell_type": "markdown",
   "metadata": {},
   "source": [
    "### Fitting and making predictions with the Logistic Regression model.\n",
    "\n",
    "---"
   ]
  },
  {
   "cell_type": "code",
   "execution_count": 22,
   "metadata": {},
   "outputs": [
    {
     "name": "stdout",
     "output_type": "stream",
     "text": [
      "Logreg intercept: [-8.34348486e-32]\n",
      "Logreg coef(s): [[-3.95109348e-16 -4.34541235e-28  2.73134005e-28 -3.61542562e-30\n",
      "  -6.39757007e-33 -1.07901563e-22 -3.11324667e-22 -7.34090371e-22\n",
      "   1.36638235e-31  3.38797363e-32 -1.87794669e-32 -9.85351180e-32]]\n"
     ]
    }
   ],
   "source": [
    "# Step 1: Instantiate our model.\n",
    "logreg = LogisticRegression()\n",
    "\n",
    "# Step 2: Fit our model.\n",
    "logreg.fit(X_train, y_train)\n",
    "\n",
    "print('Logreg intercept:', logreg.intercept_)\n",
    "print('Logreg coef(s):', logreg.coef_)"
   ]
  },
  {
   "cell_type": "code",
   "execution_count": 27,
   "metadata": {},
   "outputs": [
    {
     "name": "stdout",
     "output_type": "stream",
     "text": [
      "Logreg predicted probabilities: [0 0 0 0 0]\n"
     ]
    }
   ],
   "source": [
    "print('Logreg predicted probabilities:', logreg.predict(X_train.head()))"
   ]
  },
  {
   "cell_type": "code",
   "execution_count": 24,
   "metadata": {},
   "outputs": [
    {
     "name": "stdout",
     "output_type": "stream",
     "text": [
      "Logreg predicted probabilities: [[0.84368009 0.15631991]\n",
      " [0.84836543 0.15163457]\n",
      " [0.88558859 0.11441141]\n",
      " [0.84878306 0.15121694]\n",
      " [0.88878605 0.11121395]]\n"
     ]
    }
   ],
   "source": [
    "print('Logreg predicted probabilities:', logreg.predict_proba(X_train.head(5)))"
   ]
  },
  {
   "cell_type": "code",
   "execution_count": null,
   "metadata": {},
   "outputs": [],
   "source": []
  }
 ],
 "metadata": {
  "kernelspec": {
   "display_name": "Python 3",
   "language": "python",
   "name": "python3"
  },
  "language_info": {
   "codemirror_mode": {
    "name": "ipython",
    "version": 3
   },
   "file_extension": ".py",
   "mimetype": "text/x-python",
   "name": "python",
   "nbconvert_exporter": "python",
   "pygments_lexer": "ipython3",
   "version": "3.6.5"
  }
 },
 "nbformat": 4,
 "nbformat_minor": 2
}
