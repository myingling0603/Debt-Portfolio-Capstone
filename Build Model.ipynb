{
 "cells": [
  {
   "cell_type": "code",
   "execution_count": 1,
   "metadata": {},
   "outputs": [
    {
     "name": "stderr",
     "output_type": "stream",
     "text": [
      "/anaconda3/lib/python3.6/site-packages/sklearn/ensemble/weight_boosting.py:29: DeprecationWarning: numpy.core.umath_tests is an internal NumPy module and should not be imported. It will be removed in a future NumPy release.\n",
      "  from numpy.core.umath_tests import inner1d\n"
     ]
    }
   ],
   "source": [
    "import pandas as pd\n",
    "import math\n",
    "import numpy as np\n",
    "import statsmodels.api as sm\n",
    "import matplotlib.pyplot as plt\n",
    "from datetime import datetime\n",
    "from sklearn import metrics\n",
    "from sklearn.model_selection import train_test_split, KFold, cross_val_score\n",
    "from sklearn.tree import DecisionTreeClassifier\n",
    "from sklearn.ensemble import RandomForestClassifier\n",
    "from sklearn.linear_model import LogisticRegression\n",
    "from sklearn.neighbors import KNeighborsClassifier\n",
    "from sklearn.preprocessing import StandardScaler\n",
    "\n",
    "%matplotlib inline"
   ]
  },
  {
   "cell_type": "code",
   "execution_count": 2,
   "metadata": {},
   "outputs": [],
   "source": [
    "df = pd.read_excel('./Data/File1.xlsx')"
   ]
  },
  {
   "cell_type": "code",
   "execution_count": 3,
   "metadata": {
    "scrolled": true
   },
   "outputs": [
    {
     "name": "stdout",
     "output_type": "stream",
     "text": [
      "<class 'pandas.core.frame.DataFrame'>\n",
      "RangeIndex: 42 entries, 0 to 41\n",
      "Data columns (total 28 columns):\n",
      "Account Number        42 non-null int64\n",
      "PortID                42 non-null object\n",
      "Remaining Balance     42 non-null float64\n",
      "interests Fees        42 non-null float64\n",
      "Date Opened           42 non-null datetime64[ns]\n",
      "Charge Off Date       42 non-null datetime64[ns]\n",
      "Last Pay Date         38 non-null datetime64[ns]\n",
      "Last Pay Amount       42 non-null float64\n",
      "Last Activity Date    42 non-null datetime64[ns]\n",
      "Interest Rate %       42 non-null float64\n",
      "Issuer                42 non-null object\n",
      "Merchant              42 non-null object\n",
      "FCFRA Date            42 non-null datetime64[ns]\n",
      "OOS Date              42 non-null datetime64[ns]\n",
      "Account Type          42 non-null object\n",
      "Last Name             42 non-null object\n",
      "First Name            42 non-null object\n",
      "Middle Name           28 non-null object\n",
      "Address               42 non-null object\n",
      "City                  42 non-null object\n",
      "State                 42 non-null object\n",
      "Zip                   42 non-null object\n",
      "County                42 non-null object\n",
      "SSN                   42 non-null int64\n",
      "Home Phone            42 non-null int64\n",
      "Employer Phone        42 non-null int64\n",
      "Cycle                 42 non-null object\n",
      "Paid                  42 non-null int64\n",
      "dtypes: datetime64[ns](6), float64(4), int64(5), object(13)\n",
      "memory usage: 9.3+ KB\n"
     ]
    }
   ],
   "source": [
    "df.info()"
   ]
  },
  {
   "cell_type": "markdown",
   "metadata": {},
   "source": [
    "## Feature Engineering\n",
    "\n",
    "---"
   ]
  },
  {
   "cell_type": "code",
   "execution_count": 4,
   "metadata": {},
   "outputs": [],
   "source": [
    "# Date the bundle was purchased\n",
    "purchased_dt = pd.to_datetime('4/1/2008')\n",
    "\n",
    "# Calculate the days until Out of Statute\n",
    "df['OOS Days Left'] = df['OOS Date'] - purchased_dt\n",
    "\n",
    "df['OOS Days Left'] = df.iloc[0]['OOS Days Left'].days"
   ]
  },
  {
   "cell_type": "code",
   "execution_count": 5,
   "metadata": {},
   "outputs": [
    {
     "data": {
      "text/plain": [
       "Index(['Account Number', 'PortID', 'Remaining Balance', 'interests Fees',\n",
       "       'Date Opened', 'Charge Off Date', 'Last Pay Date', 'Last Pay Amount',\n",
       "       'Last Activity Date', 'Interest Rate %', 'Issuer', 'Merchant',\n",
       "       'FCFRA Date', 'OOS Date', 'Account Type', 'Last Name', 'First Name',\n",
       "       'Middle Name', 'Address', 'City', 'State', 'Zip', 'County', 'SSN',\n",
       "       'Home Phone', 'Employer Phone', 'Paid', 'OOS Days Left',\n",
       "       'Cycle_QUATERNARY', 'Cycle_SECONDARY', 'Cycle_TERTIARY'],\n",
       "      dtype='object')"
      ]
     },
     "execution_count": 5,
     "metadata": {},
     "output_type": "execute_result"
    }
   ],
   "source": [
    "# Dummy up the Cycle as this is an important feature\n",
    "df = pd.get_dummies(df, columns = ['Cycle'])\n",
    "df.columns"
   ]
  },
  {
   "cell_type": "code",
   "execution_count": 6,
   "metadata": {},
   "outputs": [],
   "source": [
    "num_cols = df.columns[[np.issubdtype(dt, np.number) for dt in df.dtypes]]\n",
    "\n",
    "drop_cols = [key for key in dict(df.dtypes) \n",
    "                if dict(df.dtypes)[key] in ['datetime64[ns]', 'object']]\n",
    "\n",
    "# Add Paid to drop list\n",
    "drop_cols.append('Paid')"
   ]
  },
  {
   "cell_type": "code",
   "execution_count": 7,
   "metadata": {},
   "outputs": [
    {
     "data": {
      "text/plain": [
       "Index(['Account Number', 'Remaining Balance', 'interests Fees',\n",
       "       'Last Pay Amount', 'Interest Rate %', 'SSN', 'Home Phone',\n",
       "       'Employer Phone', 'Paid', 'OOS Days Left', 'Cycle_QUATERNARY',\n",
       "       'Cycle_SECONDARY', 'Cycle_TERTIARY'],\n",
       "      dtype='object')"
      ]
     },
     "execution_count": 7,
     "metadata": {},
     "output_type": "execute_result"
    }
   ],
   "source": [
    "num_cols"
   ]
  },
  {
   "cell_type": "code",
   "execution_count": 8,
   "metadata": {},
   "outputs": [],
   "source": [
    "y = df['Paid']\n",
    "X = df.drop(columns = drop_cols)"
   ]
  },
  {
   "cell_type": "code",
   "execution_count": 9,
   "metadata": {},
   "outputs": [],
   "source": [
    "X_train, X_test, y_train, y_test = train_test_split(X, y, test_size=0.8, random_state=42)"
   ]
  },
  {
   "cell_type": "code",
   "execution_count": 10,
   "metadata": {},
   "outputs": [],
   "source": [
    "ss = StandardScaler()\n",
    "ss.fit(X_train)\n",
    "X_train_sc = ss.transform(X_train)\n",
    "X_test_sc = ss.transform(X_test)"
   ]
  },
  {
   "cell_type": "markdown",
   "metadata": {},
   "source": [
    "## Fitting and making predictions with the Logistic Regression model.\n",
    "\n",
    "---"
   ]
  },
  {
   "cell_type": "code",
   "execution_count": 11,
   "metadata": {},
   "outputs": [
    {
     "name": "stdout",
     "output_type": "stream",
     "text": [
      "Logreg intercept: [-1.13063277]\n",
      "Logreg coef(s): [[-0.17474582 -0.18989174  0.02904934  0.83306279  0.0500585   0.22059402\n",
      "  -0.06816771 -0.10884952  0.          0.          0.0500585  -0.0500585 ]]\n"
     ]
    }
   ],
   "source": [
    "# Step 1: Instantiate our model.\n",
    "logreg = LogisticRegression()\n",
    "\n",
    "# Step 2: Fit our model.\n",
    "logreg.fit(X_train_sc, y_train)\n",
    "\n",
    "print('Logreg intercept:', logreg.intercept_)\n",
    "print('Logreg coef(s):', logreg.coef_)"
   ]
  },
  {
   "cell_type": "code",
   "execution_count": 12,
   "metadata": {},
   "outputs": [
    {
     "name": "stdout",
     "output_type": "stream",
     "text": [
      "Logreg predicted: [0 0 0 0 0 0 0 0 0 0 0 0 0 0 0 0 0 0 0 0 0 0 0 0 0 1 1 0 0 0 0 0 0 0]\n"
     ]
    }
   ],
   "source": [
    "y_pred = logreg.predict(X_test_sc)\n",
    "print('Logreg predicted:', y_pred)"
   ]
  },
  {
   "cell_type": "markdown",
   "metadata": {},
   "source": [
    "### Confusion Matrix"
   ]
  },
  {
   "cell_type": "code",
   "execution_count": 13,
   "metadata": {},
   "outputs": [
    {
     "data": {
      "text/plain": [
       "array([[28,  2],\n",
       "       [ 4,  0]])"
      ]
     },
     "execution_count": 13,
     "metadata": {},
     "output_type": "execute_result"
    }
   ],
   "source": [
    "metrics.confusion_matrix(y_test, y_pred)"
   ]
  },
  {
   "cell_type": "code",
   "execution_count": 14,
   "metadata": {},
   "outputs": [
    {
     "name": "stdout",
     "output_type": "stream",
     "text": [
      "True Negatives: 28\n",
      "False Positives: 2\n",
      "False Negatives: 4\n",
      "True Positives: 0\n"
     ]
    }
   ],
   "source": [
    "tn, fp, fn, tp = metrics.confusion_matrix(y_test, y_pred).ravel()\n",
    "\n",
    "print(\"True Negatives: %s\" % tn)\n",
    "print(\"False Positives: %s\" % fp)\n",
    "print(\"False Negatives: %s\" % fn)\n",
    "print(\"True Positives: %s\" % tp)"
   ]
  },
  {
   "cell_type": "markdown",
   "metadata": {},
   "source": [
    "#### Confusion Matrix Evaluation Metrics\n",
    "Let's evaluate the model using model evaluation metrics such as accuracy, precision, and recall.\n",
    "\n",
    "- Well, you got a classification rate of 92%, considered as good accuracy.\n",
    "\n",
    "- Precision: Precision is about being precise, i.e., how accurate your model is. In other words, you can say, when a model makes a prediction, how often it is correct. In your prediction case, when your Logistic Regression model predicted debtors will pay back 0%, of the time.\n",
    "\n",
    "- Recall: If there are debtors who pay back in the test set and your Logistic Regression model can identify it 0% of the time.\n",
    "\n"
   ]
  },
  {
   "cell_type": "code",
   "execution_count": 15,
   "metadata": {},
   "outputs": [
    {
     "name": "stdout",
     "output_type": "stream",
     "text": [
      "Accuracy: 0.8235294117647058\n",
      "Precision: 0.0\n",
      "Recall: 0.0\n"
     ]
    }
   ],
   "source": [
    "print(\"Accuracy:\",metrics.accuracy_score(y_test, y_pred))\n",
    "print(\"Precision:\",metrics.precision_score(y_test, y_pred))\n",
    "print(\"Recall:\",metrics.recall_score(y_test, y_pred))"
   ]
  },
  {
   "cell_type": "markdown",
   "metadata": {},
   "source": [
    "#### ROC Curve\n",
    "Receiver Operating Characteristic(ROC) curve is a plot of the true positive rate against the false positive rate. It shows the tradeoff between sensitivity and specificity.\n",
    "\n",
    "- AUC score for the case is 0.5. AUC score 1 represents perfect classifier, and 0.5 represents a worthless classifier."
   ]
  },
  {
   "cell_type": "code",
   "execution_count": 16,
   "metadata": {},
   "outputs": [
    {
     "data": {
      "image/png": "[encoded data removed]",
      "text/plain": [
       "<Figure size 432x288 with 1 Axes>"
      ]
     },
     "metadata": {},
     "output_type": "display_data"
    }
   ],
   "source": [
    "y_pred_proba = logreg.predict_proba(X_test_sc)[::,1]\n",
    "\n",
    "fpr, tpr, _ = metrics.roc_curve(y_test,  y_pred_proba)\n",
    "\n",
    "auc = metrics.roc_auc_score(y_test, y_pred_proba)\n",
    "\n",
    "plt.plot(fpr,tpr,label=\"data 1, auc=\"+str(auc))\n",
    "plt.legend(loc=4)\n",
    "plt.show()"
   ]
  },
  {
   "cell_type": "markdown",
   "metadata": {},
   "source": [
    "## Fitting and making predictions with DecisionTreeClassifier model.\n",
    "\n",
    "---"
   ]
  },
  {
   "cell_type": "code",
   "execution_count": 17,
   "metadata": {},
   "outputs": [],
   "source": [
    "# criterion: splitting decision function, can be 'gini' or 'entropy'\n",
    "# max_depth: the maximum number of hierarchical decision nodes(how \"deep\" the tree is \n",
    "# built)\n",
    "\n",
    "classifier = DecisionTreeClassifier(criterion='gini',\n",
    "                                    max_depth=None)\n",
    "\n",
    "classifier.fit(X_train_sc, y_train)\n",
    "\n",
    "y_pred = classifier.predict(X_test_sc)\n",
    "\n",
    "# decision trees can give us feature importances. the higher the number the more important\n",
    "# the predictor was to deciding splits at nodes.\n",
    "# \"The importance of a feature is computed as the (normalized) total reduction of the \n",
    "# criterion brought by that feature.\"\n",
    "#\n",
    "feature_importances = classifier.feature_importances_"
   ]
  },
  {
   "cell_type": "code",
   "execution_count": 18,
   "metadata": {},
   "outputs": [
    {
     "data": {
      "text/plain": [
       "array([0., 1., 0., 0., 0., 0., 0., 0., 0., 0., 0., 0.])"
      ]
     },
     "execution_count": 18,
     "metadata": {},
     "output_type": "execute_result"
    }
   ],
   "source": [
    "feature_importances"
   ]
  },
  {
   "cell_type": "code",
   "execution_count": 19,
   "metadata": {},
   "outputs": [
    {
     "name": "stdout",
     "output_type": "stream",
     "text": [
      "Accuracy: 0.6764705882352942\n"
     ]
    }
   ],
   "source": [
    "# Model Accuracy, how often is the classifier correct?\n",
    "print(\"Accuracy:\",metrics.accuracy_score(y_test, y_pred))"
   ]
  },
  {
   "cell_type": "code",
   "execution_count": 20,
   "metadata": {},
   "outputs": [
    {
     "data": {
      "text/plain": [
       "<matplotlib.axes._subplots.AxesSubplot at 0x1c2d3df208>"
      ]
     },
     "execution_count": 20,
     "metadata": {},
     "output_type": "execute_result"
    },
    {
     "data": {
      "image/png": "[encoded data removed]",
      "text/plain": [
       "<Figure size 432x288 with 1 Axes>"
      ]
     },
     "metadata": {},
     "output_type": "display_data"
    }
   ],
   "source": [
    "importances = list(zip(classifier.feature_importances_, X.columns))\n",
    "importances.sort(reverse=True)\n",
    "\n",
    "pd.DataFrame(importances, index=[x for (_,x) in importances]).plot(kind = 'bar')"
   ]
  },
  {
   "cell_type": "markdown",
   "metadata": {},
   "source": [
    "## Fitting and making predictions with RandomForestClassifier model.\n",
    "\n",
    "-----"
   ]
  },
  {
   "cell_type": "code",
   "execution_count": 21,
   "metadata": {},
   "outputs": [
    {
     "name": "stdout",
     "output_type": "stream",
     "text": [
      "Accuracy: 0.8823529411764706\n"
     ]
    }
   ],
   "source": [
    "#Create a Gaussian Classifier\n",
    "classifier=RandomForestClassifier(n_estimators=100)\n",
    "\n",
    "#Train the model using the training sets y_pred=clf.predict(X_test)\n",
    "classifier.fit(X_train_sc,y_train)\n",
    "\n",
    "# prediction on test set\n",
    "y_pred=classifier.predict(X_test_sc)\n",
    "\n",
    "# Model Accuracy, how often is the classifier correct?\n",
    "print(\"Accuracy:\",metrics.accuracy_score(y_test, y_pred))"
   ]
  },
  {
   "cell_type": "code",
   "execution_count": 22,
   "metadata": {},
   "outputs": [
    {
     "data": {
      "text/plain": [
       "<matplotlib.axes._subplots.AxesSubplot at 0x1c2d4f1668>"
      ]
     },
     "execution_count": 22,
     "metadata": {},
     "output_type": "execute_result"
    },
    {
     "data": {
      "image/png": "[encoded data removed]",
      "text/plain": [
       "<Figure size 432x288 with 1 Axes>"
      ]
     },
     "metadata": {},
     "output_type": "display_data"
    }
   ],
   "source": [
    "importances = list(zip(classifier.feature_importances_, X.columns))\n",
    "importances.sort(reverse=True)\n",
    "\n",
    "pd.DataFrame(importances, index=[x for (_,x) in importances]).plot(kind = 'bar')"
   ]
  },
  {
   "cell_type": "markdown",
   "metadata": {},
   "source": [
    "## Fitting and making predictions with KNeighborsClassifier model.\n",
    "\n",
    "---"
   ]
  },
  {
   "cell_type": "markdown",
   "metadata": {},
   "source": [
    "#### Instantiate KNN\n",
    "\n",
    "For the `KNeighborsClassifier`, there a few important parameters to keep in mind:\n",
    "\n",
    "1. `n_neighbors`: this is the \"K\" in KNN. The best K will change from problem to problem, but the default is 5.\n",
    "2. `weights`: The neighbors can all have an equal vote (`uniform`), or the closer points can have a higher weighted vote (`distance`).\n",
    "3. `p`: The distance metric. The default is Euclidean distance (2). Changing it to 1 is setting the distance to Manhattan.\n",
    "\n",
    "In the cell below, instantiate a `knn` model using the default parameters."
   ]
  },
  {
   "cell_type": "code",
   "execution_count": 23,
   "metadata": {},
   "outputs": [],
   "source": [
    "features = ['Cycle_QUATERNARY', 'Cycle_SECONDARY', 'Cycle_TERTIARY']\n",
    "X_knn = df[features]\n",
    "y_knn = df['Paid']\n",
    "\n",
    "# Split dataset into training set and test set 70% training and 30% test\n",
    "X_train, X_test, y_train, y_test = train_test_split(X_knn, y_knn, test_size=0.3) "
   ]
  },
  {
   "cell_type": "code",
   "execution_count": 24,
   "metadata": {},
   "outputs": [
    {
     "name": "stdout",
     "output_type": "stream",
     "text": [
      "Accuracy: 0.9230769230769231\n"
     ]
    }
   ],
   "source": [
    "#Create KNN Classifier\n",
    "knn = KNeighborsClassifier(n_neighbors=3)\n",
    "\n",
    "#Train the model using the training sets\n",
    "knn.fit(X_train, y_train)\n",
    "\n",
    "#Predict the response for test dataset\n",
    "y_pred = knn.predict(X_test)\n",
    "\n",
    "# Model Accuracy, how often is the classifier correct?\n",
    "print(\"Accuracy:\",metrics.accuracy_score(y_test, y_pred))"
   ]
  },
  {
   "cell_type": "markdown",
   "metadata": {},
   "source": [
    "#### Cross validation\n",
    "\n",
    "In the cell below, use `cross_val_score` to see what accuracy we can expect from our KNN model."
   ]
  },
  {
   "cell_type": "code",
   "execution_count": 26,
   "metadata": {},
   "outputs": [
    {
     "name": "stdout",
     "output_type": "stream",
     "text": [
      "0.8653198653198654\n"
     ]
    }
   ],
   "source": [
    "print(cross_val_score(knn, X_train, y_train).mean())"
   ]
  },
  {
   "cell_type": "code",
   "execution_count": null,
   "metadata": {},
   "outputs": [],
   "source": [
    "# pred_df = pd.DataFrame()\n",
    "\n",
    "# paid = y\n",
    "# paid.replace({1 :'yes', 0 : 'no'}, inplace=True)\n",
    "# pred_df['paid'] = paid\n",
    "\n",
    "# y_pred = pd.DataFrame(y_pred.reshape(len(y_pred), -1))\n",
    "# pred_df['y_pred'] = y_pred\n",
    "\n",
    "# pred_df"
   ]
  },
  {
   "cell_type": "code",
   "execution_count": null,
   "metadata": {},
   "outputs": [],
   "source": []
  }
 ],
 "metadata": {
  "kernelspec": {
   "display_name": "Python 3",
   "language": "python",
   "name": "python3"
  },
  "language_info": {
   "codemirror_mode": {
    "name": "ipython",
    "version": 3
   },
   "file_extension": ".py",
   "mimetype": "text/x-python",
   "name": "python",
   "nbconvert_exporter": "python",
   "pygments_lexer": "ipython3",
   "version": "3.6.5"
  }
 },
 "nbformat": 4,
 "nbformat_minor": 2
}
