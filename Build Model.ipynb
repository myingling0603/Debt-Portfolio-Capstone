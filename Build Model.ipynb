{
 "cells": [
  {
   "cell_type": "code",
   "execution_count": 1,
   "metadata": {},
   "outputs": [],
   "source": [
    "import pandas as pd\n",
    "import math\n",
    "import numpy as np\n",
    "import statsmodels.api as sm\n",
    "import matplotlib.pyplot as plt\n",
    "from sklearn import metrics\n",
    "from sklearn.model_selection import train_test_split, KFold, cross_val_score\n",
    "from sklearn.tree import DecisionTreeClassifier\n",
    "from sklearn.model_selection import cross_val_score\n",
    "from sklearn.linear_model import LogisticRegression\n",
    "\n",
    "%matplotlib inline"
   ]
  },
  {
   "cell_type": "code",
   "execution_count": 2,
   "metadata": {},
   "outputs": [],
   "source": [
    "df = pd.read_excel('./Data/File1.xlsx')"
   ]
  },
  {
   "cell_type": "code",
   "execution_count": 3,
   "metadata": {
    "scrolled": false
   },
   "outputs": [
    {
     "name": "stdout",
     "output_type": "stream",
     "text": [
      "<class 'pandas.core.frame.DataFrame'>\n",
      "RangeIndex: 42 entries, 0 to 41\n",
      "Data columns (total 28 columns):\n",
      "Account Number        42 non-null int64\n",
      "PortID                42 non-null object\n",
      "Remaining Balance     42 non-null float64\n",
      "interests Fees        42 non-null float64\n",
      "Date Opened           42 non-null datetime64[ns]\n",
      "Charge Off Date       42 non-null datetime64[ns]\n",
      "Last Pay Date         38 non-null datetime64[ns]\n",
      "Last Pay Amount       42 non-null float64\n",
      "Last Activity Date    42 non-null datetime64[ns]\n",
      "Interest Rate %       42 non-null float64\n",
      "Issuer                42 non-null object\n",
      "Merchant              42 non-null object\n",
      "FCFRA Date            42 non-null datetime64[ns]\n",
      "OOS Date              42 non-null datetime64[ns]\n",
      "Account Type          42 non-null object\n",
      "Last Name             42 non-null object\n",
      "First Name            42 non-null object\n",
      "Middle Name           28 non-null object\n",
      "Address               42 non-null object\n",
      "City                  42 non-null object\n",
      "State                 42 non-null object\n",
      "Zip                   42 non-null object\n",
      "County                42 non-null object\n",
      "SSN                   42 non-null int64\n",
      "Home Phone            42 non-null int64\n",
      "Employer Phone        42 non-null int64\n",
      "Cycle                 42 non-null object\n",
      "Paid                  42 non-null int64\n",
      "dtypes: datetime64[ns](6), float64(4), int64(5), object(13)\n",
      "memory usage: 9.3+ KB\n"
     ]
    }
   ],
   "source": [
    "df.info()"
   ]
  },
  {
   "cell_type": "markdown",
   "metadata": {},
   "source": [
    "- As the interest rate increases by 1% the odds of them paying back decrease by 84%"
   ]
  },
  {
   "cell_type": "code",
   "execution_count": 4,
   "metadata": {},
   "outputs": [
    {
     "data": {
      "text/html": [
       "<div>\n",
       "<style scoped>\n",
       "    .dataframe tbody tr th:only-of-type {\n",
       "        vertical-align: middle;\n",
       "    }\n",
       "\n",
       "    .dataframe tbody tr th {\n",
       "        vertical-align: top;\n",
       "    }\n",
       "\n",
       "    .dataframe thead th {\n",
       "        text-align: right;\n",
       "    }\n",
       "</style>\n",
       "<table border=\"1\" class=\"dataframe\">\n",
       "  <thead>\n",
       "    <tr style=\"text-align: right;\">\n",
       "      <th></th>\n",
       "      <th>Account Number</th>\n",
       "      <th>PortID</th>\n",
       "      <th>Remaining Balance</th>\n",
       "      <th>interests Fees</th>\n",
       "      <th>Date Opened</th>\n",
       "      <th>Charge Off Date</th>\n",
       "      <th>Last Pay Date</th>\n",
       "      <th>Last Pay Amount</th>\n",
       "      <th>Last Activity Date</th>\n",
       "      <th>Interest Rate %</th>\n",
       "      <th>...</th>\n",
       "      <th>State</th>\n",
       "      <th>Zip</th>\n",
       "      <th>County</th>\n",
       "      <th>SSN</th>\n",
       "      <th>Home Phone</th>\n",
       "      <th>Employer Phone</th>\n",
       "      <th>Paid</th>\n",
       "      <th>Cycle_QUATERNARY</th>\n",
       "      <th>Cycle_SECONDARY</th>\n",
       "      <th>Cycle_TERTIARY</th>\n",
       "    </tr>\n",
       "  </thead>\n",
       "  <tbody>\n",
       "    <tr>\n",
       "      <th>0</th>\n",
       "      <td>4071580080012050</td>\n",
       "      <td>FUS0813</td>\n",
       "      <td>6020.73</td>\n",
       "      <td>1352.43</td>\n",
       "      <td>1989-10-17</td>\n",
       "      <td>2005-12-30</td>\n",
       "      <td>NaT</td>\n",
       "      <td>200.0</td>\n",
       "      <td>2006-06-28</td>\n",
       "      <td>0.0800</td>\n",
       "      <td>...</td>\n",
       "      <td>CO</td>\n",
       "      <td>80203-4205</td>\n",
       "      <td>DENVER</td>\n",
       "      <td>287567934</td>\n",
       "      <td>3039418940</td>\n",
       "      <td>3036752373</td>\n",
       "      <td>0</td>\n",
       "      <td>0</td>\n",
       "      <td>0</td>\n",
       "      <td>1</td>\n",
       "    </tr>\n",
       "    <tr>\n",
       "      <th>1</th>\n",
       "      <td>4253294210011880</td>\n",
       "      <td>FUS0739</td>\n",
       "      <td>778.20</td>\n",
       "      <td>160.41</td>\n",
       "      <td>2005-06-03</td>\n",
       "      <td>2006-03-31</td>\n",
       "      <td>NaT</td>\n",
       "      <td>0.0</td>\n",
       "      <td>2005-06-03</td>\n",
       "      <td>0.0800</td>\n",
       "      <td>...</td>\n",
       "      <td>CO</td>\n",
       "      <td>80011-9052</td>\n",
       "      <td>ADAMS</td>\n",
       "      <td>523755675</td>\n",
       "      <td>3036800451</td>\n",
       "      <td>3036803635</td>\n",
       "      <td>0</td>\n",
       "      <td>0</td>\n",
       "      <td>0</td>\n",
       "      <td>1</td>\n",
       "    </tr>\n",
       "    <tr>\n",
       "      <th>2</th>\n",
       "      <td>4266493601904600</td>\n",
       "      <td>FUS0422</td>\n",
       "      <td>404.68</td>\n",
       "      <td>711.87</td>\n",
       "      <td>1995-09-01</td>\n",
       "      <td>2003-04-30</td>\n",
       "      <td>2002-09-08</td>\n",
       "      <td>0.0</td>\n",
       "      <td>2002-09-08</td>\n",
       "      <td>0.1924</td>\n",
       "      <td>...</td>\n",
       "      <td>CO</td>\n",
       "      <td>80221-2732</td>\n",
       "      <td>ADAMS</td>\n",
       "      <td>523710822</td>\n",
       "      <td>3034879164</td>\n",
       "      <td>9999999999</td>\n",
       "      <td>0</td>\n",
       "      <td>0</td>\n",
       "      <td>1</td>\n",
       "      <td>0</td>\n",
       "    </tr>\n",
       "    <tr>\n",
       "      <th>3</th>\n",
       "      <td>4266513023392740</td>\n",
       "      <td>FUS0560</td>\n",
       "      <td>502.26</td>\n",
       "      <td>718.72</td>\n",
       "      <td>1999-11-17</td>\n",
       "      <td>2003-12-31</td>\n",
       "      <td>2003-08-07</td>\n",
       "      <td>0.0</td>\n",
       "      <td>2003-08-07</td>\n",
       "      <td>0.1999</td>\n",
       "      <td>...</td>\n",
       "      <td>CO</td>\n",
       "      <td>80206-3522</td>\n",
       "      <td>DENVER</td>\n",
       "      <td>522234200</td>\n",
       "      <td>3036980983</td>\n",
       "      <td>9999999999</td>\n",
       "      <td>0</td>\n",
       "      <td>0</td>\n",
       "      <td>0</td>\n",
       "      <td>1</td>\n",
       "    </tr>\n",
       "    <tr>\n",
       "      <th>4</th>\n",
       "      <td>4266812001671530</td>\n",
       "      <td>FUS0722</td>\n",
       "      <td>6482.89</td>\n",
       "      <td>1654.38</td>\n",
       "      <td>1998-09-13</td>\n",
       "      <td>2005-09-30</td>\n",
       "      <td>2005-02-10</td>\n",
       "      <td>150.0</td>\n",
       "      <td>2005-02-10</td>\n",
       "      <td>0.0800</td>\n",
       "      <td>...</td>\n",
       "      <td>CO</td>\n",
       "      <td>80229-7910</td>\n",
       "      <td>ADAMS</td>\n",
       "      <td>522533406</td>\n",
       "      <td>3032875899</td>\n",
       "      <td>3032886677</td>\n",
       "      <td>0</td>\n",
       "      <td>0</td>\n",
       "      <td>0</td>\n",
       "      <td>1</td>\n",
       "    </tr>\n",
       "  </tbody>\n",
       "</table>\n",
       "<p>5 rows × 30 columns</p>\n",
       "</div>"
      ],
      "text/plain": [
       "     Account Number   PortID  Remaining Balance  interests Fees Date Opened  \\\n",
       "0  4071580080012050  FUS0813            6020.73         1352.43  1989-10-17   \n",
       "1  4253294210011880  FUS0739             778.20          160.41  2005-06-03   \n",
       "2  4266493601904600  FUS0422             404.68          711.87  1995-09-01   \n",
       "3  4266513023392740  FUS0560             502.26          718.72  1999-11-17   \n",
       "4  4266812001671530  FUS0722            6482.89         1654.38  1998-09-13   \n",
       "\n",
       "  Charge Off Date Last Pay Date  Last Pay Amount Last Activity Date  \\\n",
       "0      2005-12-30           NaT            200.0         2006-06-28   \n",
       "1      2006-03-31           NaT              0.0         2005-06-03   \n",
       "2      2003-04-30    2002-09-08              0.0         2002-09-08   \n",
       "3      2003-12-31    2003-08-07              0.0         2003-08-07   \n",
       "4      2005-09-30    2005-02-10            150.0         2005-02-10   \n",
       "\n",
       "   Interest Rate %      ...       State         Zip  County        SSN  \\\n",
       "0           0.0800      ...          CO  80203-4205  DENVER  287567934   \n",
       "1           0.0800      ...          CO  80011-9052   ADAMS  523755675   \n",
       "2           0.1924      ...          CO  80221-2732   ADAMS  523710822   \n",
       "3           0.1999      ...          CO  80206-3522  DENVER  522234200   \n",
       "4           0.0800      ...          CO  80229-7910   ADAMS  522533406   \n",
       "\n",
       "   Home Phone Employer Phone Paid Cycle_QUATERNARY Cycle_SECONDARY  \\\n",
       "0  3039418940     3036752373    0                0               0   \n",
       "1  3036800451     3036803635    0                0               0   \n",
       "2  3034879164     9999999999    0                0               1   \n",
       "3  3036980983     9999999999    0                0               0   \n",
       "4  3032875899     3032886677    0                0               0   \n",
       "\n",
       "  Cycle_TERTIARY  \n",
       "0              1  \n",
       "1              1  \n",
       "2              0  \n",
       "3              1  \n",
       "4              1  \n",
       "\n",
       "[5 rows x 30 columns]"
      ]
     },
     "execution_count": 4,
     "metadata": {},
     "output_type": "execute_result"
    }
   ],
   "source": [
    "# Dummy up the Cycle as this is an important feature\n",
    "\n",
    "df = pd.get_dummies(df, columns = ['Cycle'])\n",
    "df.head()"
   ]
  },
  {
   "cell_type": "code",
   "execution_count": 5,
   "metadata": {},
   "outputs": [],
   "source": [
    "num_cols = df.columns[[np.issubdtype(dt, np.number) for dt in df.dtypes]]\n",
    "\n",
    "drop_cols = [key for key in dict(df.dtypes) \n",
    "                if dict(df.dtypes)[key] in ['datetime64[ns]', 'object']]\n",
    "\n",
    "# Add Paid to drop list\n",
    "drop_cols.append('Paid')"
   ]
  },
  {
   "cell_type": "code",
   "execution_count": 6,
   "metadata": {},
   "outputs": [],
   "source": [
    "y = df['Paid']\n",
    "X = df.drop(columns = drop_cols)"
   ]
  },
  {
   "cell_type": "code",
   "execution_count": 7,
   "metadata": {},
   "outputs": [],
   "source": [
    "X_train, X_test, y_train, y_test = train_test_split(X, y, test_size=0.3, random_state=42)"
   ]
  },
  {
   "cell_type": "markdown",
   "metadata": {},
   "source": [
    "## Fitting and making predictions with the Logistic Regression model.\n",
    "\n",
    "---"
   ]
  },
  {
   "cell_type": "code",
   "execution_count": 8,
   "metadata": {},
   "outputs": [
    {
     "name": "stdout",
     "output_type": "stream",
     "text": [
      "Logreg intercept: [-8.34348486e-32]\n",
      "Logreg coef(s): [[-3.95109348e-16 -4.34541235e-28  2.73134005e-28 -3.61542562e-30\n",
      "  -6.39757007e-33 -1.07901563e-22 -3.11324667e-22 -7.34090371e-22\n",
      "   3.38797363e-32 -1.87794669e-32 -9.85351180e-32]]\n"
     ]
    }
   ],
   "source": [
    "# Step 1: Instantiate our model.\n",
    "logreg = LogisticRegression()\n",
    "\n",
    "# Step 2: Fit our model.\n",
    "logreg.fit(X_train, y_train)\n",
    "\n",
    "print('Logreg intercept:', logreg.intercept_)\n",
    "print('Logreg coef(s):', logreg.coef_)"
   ]
  },
  {
   "cell_type": "code",
   "execution_count": 9,
   "metadata": {},
   "outputs": [
    {
     "name": "stdout",
     "output_type": "stream",
     "text": [
      "Logreg predicted: [0 0 0 0 0 0 0 0 0 0 0 0 0]\n"
     ]
    }
   ],
   "source": [
    "y_pred = logreg.predict(X_test)\n",
    "print('Logreg predicted:', y_pred)"
   ]
  },
  {
   "cell_type": "markdown",
   "metadata": {},
   "source": [
    "### Confusion Matrix"
   ]
  },
  {
   "cell_type": "code",
   "execution_count": 10,
   "metadata": {},
   "outputs": [
    {
     "data": {
      "text/plain": [
       "array([[12,  0],\n",
       "       [ 1,  0]])"
      ]
     },
     "execution_count": 10,
     "metadata": {},
     "output_type": "execute_result"
    }
   ],
   "source": [
    "metrics.confusion_matrix(y_test, y_pred)"
   ]
  },
  {
   "cell_type": "code",
   "execution_count": 11,
   "metadata": {},
   "outputs": [
    {
     "name": "stdout",
     "output_type": "stream",
     "text": [
      "True Negatives: 12\n",
      "False Positives: 0\n",
      "False Negatives: 1\n",
      "True Positives: 0\n"
     ]
    }
   ],
   "source": [
    "tn, fp, fn, tp = metrics.confusion_matrix(y_test, y_pred).ravel()\n",
    "\n",
    "print(\"True Negatives: %s\" % tn)\n",
    "print(\"False Positives: %s\" % fp)\n",
    "print(\"False Negatives: %s\" % fn)\n",
    "print(\"True Positives: %s\" % tp)"
   ]
  },
  {
   "cell_type": "markdown",
   "metadata": {},
   "source": [
    "#### Confusion Matrix Evaluation Metrics\n",
    "Let's evaluate the model using model evaluation metrics such as accuracy, precision, and recall.\n",
    "\n",
    "- Well, you got a classification rate of 92%, considered as good accuracy.\n",
    "\n",
    "- Precision: Precision is about being precise, i.e., how accurate your model is. In other words, you can say, when a model makes a prediction, how often it is correct. In your prediction case, when your Logistic Regression model predicted debtors will pay back 0%, of the time.\n",
    "\n",
    "- Recall: If there are debtors who pay back in the test set and your Logistic Regression model can identify it 0% of the time.\n",
    "\n"
   ]
  },
  {
   "cell_type": "code",
   "execution_count": 12,
   "metadata": {},
   "outputs": [
    {
     "name": "stdout",
     "output_type": "stream",
     "text": [
      "Accuracy: 0.9230769230769231\n",
      "Precision: 0.0\n",
      "Recall: 0.0\n"
     ]
    },
    {
     "name": "stderr",
     "output_type": "stream",
     "text": [
      "/anaconda3/lib/python3.6/site-packages/sklearn/metrics/classification.py:1135: UndefinedMetricWarning: Precision is ill-defined and being set to 0.0 due to no predicted samples.\n",
      "  'precision', 'predicted', average, warn_for)\n"
     ]
    }
   ],
   "source": [
    "print(\"Accuracy:\",metrics.accuracy_score(y_test, y_pred))\n",
    "print(\"Precision:\",metrics.precision_score(y_test, y_pred))\n",
    "print(\"Recall:\",metrics.recall_score(y_test, y_pred))"
   ]
  },
  {
   "cell_type": "markdown",
   "metadata": {},
   "source": [
    "#### ROC Curve\n",
    "Receiver Operating Characteristic(ROC) curve is a plot of the true positive rate against the false positive rate. It shows the tradeoff between sensitivity and specificity.\n",
    "\n",
    "- AUC score for the case is 0.5. AUC score 1 represents perfect classifier, and 0.5 represents a worthless classifier."
   ]
  },
  {
   "cell_type": "code",
   "execution_count": 13,
   "metadata": {},
   "outputs": [
    {
     "data": {
      "image/png": "[encoded data removed]",
      "text/plain": [
       "<Figure size 432x288 with 1 Axes>"
      ]
     },
     "metadata": {},
     "output_type": "display_data"
    }
   ],
   "source": [
    "y_pred_proba = logreg.predict_proba(X_test)[::,1]\n",
    "\n",
    "fpr, tpr, _ = metrics.roc_curve(y_test,  y_pred_proba)\n",
    "\n",
    "auc = metrics.roc_auc_score(y_test, y_pred_proba)\n",
    "\n",
    "plt.plot(fpr,tpr,label=\"data 1, auc=\"+str(auc))\n",
    "plt.legend(loc=4)\n",
    "plt.show()"
   ]
  },
  {
   "cell_type": "markdown",
   "metadata": {},
   "source": [
    "## Fitting and making predictions with DecisionTreeClassifier model.\n",
    "\n",
    "---"
   ]
  },
  {
   "cell_type": "code",
   "execution_count": 15,
   "metadata": {},
   "outputs": [],
   "source": [
    "# criterion: splitting decision function, can be 'gini' or 'entropy'\n",
    "# max_depth: the maximum number of hierarchical decision nodes(how \"deep\" the tree is \n",
    "# built)\n",
    "\n",
    "classifier = DecisionTreeClassifier(criterion='gini',\n",
    "                                    max_depth=None)\n",
    "\n",
    "classifier.fit(X, y)\n",
    "\n",
    "Y_pred = classifier.predict(X)\n",
    "\n",
    "# decision trees can give us feature importances. the higher the number the more important\n",
    "# the predictor was to deciding splits at nodes.\n",
    "# \"The importance of a feature is computed as the (normalized) total reduction of the \n",
    "# criterion brought by that feature.\"\n",
    "#\n",
    "feature_importances = classifier.feature_importances_"
   ]
  },
  {
   "cell_type": "code",
   "execution_count": 16,
   "metadata": {},
   "outputs": [
    {
     "data": {
      "text/plain": [
       "array([0.        , 0.16717445, 0.44801342, 0.20432432, 0.        ,\n",
       "       0.        , 0.        , 0.        , 0.1804878 , 0.        ,\n",
       "       0.        ])"
      ]
     },
     "execution_count": 16,
     "metadata": {},
     "output_type": "execute_result"
    }
   ],
   "source": [
    "feature_importances"
   ]
  },
  {
   "cell_type": "code",
   "execution_count": 17,
   "metadata": {},
   "outputs": [
    {
     "data": {
      "text/plain": [
       "Index(['Account Number', 'Remaining Balance', 'interests Fees',\n",
       "       'Last Pay Amount', 'Interest Rate %', 'SSN', 'Home Phone',\n",
       "       'Employer Phone', 'Cycle_QUATERNARY', 'Cycle_SECONDARY',\n",
       "       'Cycle_TERTIARY'],\n",
       "      dtype='object')"
      ]
     },
     "execution_count": 17,
     "metadata": {},
     "output_type": "execute_result"
    }
   ],
   "source": [
    "X.columns"
   ]
  },
  {
   "cell_type": "code",
   "execution_count": 20,
   "metadata": {},
   "outputs": [
    {
     "data": {
      "text/plain": [
       "<matplotlib.axes._subplots.AxesSubplot at 0x1c28ee8cc0>"
      ]
     },
     "execution_count": 20,
     "metadata": {},
     "output_type": "execute_result"
    },
    {
     "data": {
      "image/png": "[encoded data removed]",
      "text/plain": [
       "<Figure size 432x288 with 1 Axes>"
      ]
     },
     "metadata": {},
     "output_type": "display_data"
    }
   ],
   "source": [
    "importances = list(zip(classifier.feature_importances_, X.columns))\n",
    "importances.sort(reverse=True)\n",
    "\n",
    "pd.DataFrame(importances, index=[x for (_,x) in importances]).plot(kind = 'bar')"
   ]
  },
  {
   "cell_type": "code",
   "execution_count": null,
   "metadata": {},
   "outputs": [],
   "source": []
  }
 ],
 "metadata": {
  "kernelspec": {
   "display_name": "Python 3",
   "language": "python",
   "name": "python3"
  },
  "language_info": {
   "codemirror_mode": {
    "name": "ipython",
    "version": 3
   },
   "file_extension": ".py",
   "mimetype": "text/x-python",
   "name": "python",
   "nbconvert_exporter": "python",
   "pygments_lexer": "ipython3",
   "version": "3.6.5"
  }
 },
 "nbformat": 4,
 "nbformat_minor": 2
}
