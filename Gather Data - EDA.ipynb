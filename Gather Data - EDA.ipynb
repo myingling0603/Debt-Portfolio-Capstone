{
 "cells": [
  {
   "cell_type": "code",
   "execution_count": 1,
   "metadata": {},
   "outputs": [],
   "source": [
    "import pandas as pd\n",
    "import math\n",
    "import numpy as np\n",
    "import matplotlib.pyplot as plt\n",
    "import seaborn as sns\n",
    "\n",
    "sns.set_style(\"whitegrid\")\n",
    "\n",
    "%matplotlib inline\n",
    "%config InlineBackend.figure_format = 'retina'"
   ]
  },
  {
   "cell_type": "markdown",
   "metadata": {},
   "source": [
    "## Read in the preprocessed data file\n",
    "After scanning in the spreadsheets and performing optical character recognition to get the data into electronic format. After doing this I needed to perform some data clean up caused by hand written notes and highlighter markings on the spreadsheet."
   ]
  },
  {
   "cell_type": "code",
   "execution_count": 2,
   "metadata": {},
   "outputs": [],
   "source": [
    "df = pd.read_excel('./Data/File1.xlsx')"
   ]
  },
  {
   "cell_type": "markdown",
   "metadata": {},
   "source": [
    "## Data Evaluation\n",
    "The unfortunate thing regarding this data set is it's small size. We only have 42 records."
   ]
  },
  {
   "cell_type": "code",
   "execution_count": 3,
   "metadata": {
    "scrolled": false
   },
   "outputs": [
    {
     "name": "stdout",
     "output_type": "stream",
     "text": [
      "<class 'pandas.core.frame.DataFrame'>\n",
      "RangeIndex: 42 entries, 0 to 41\n",
      "Data columns (total 28 columns):\n",
      "Account Number        42 non-null int64\n",
      "PortID                42 non-null object\n",
      "Remaining Balance     42 non-null float64\n",
      "interests Fees        42 non-null float64\n",
      "Date Opened           42 non-null datetime64[ns]\n",
      "Charge Off Date       42 non-null datetime64[ns]\n",
      "Last Pay Date         38 non-null datetime64[ns]\n",
      "Last Pay Amount       42 non-null float64\n",
      "Last Activity Date    42 non-null datetime64[ns]\n",
      "Interest Rate %       42 non-null float64\n",
      "Issuer                42 non-null object\n",
      "Merchant              42 non-null object\n",
      "FCFRA Date            42 non-null datetime64[ns]\n",
      "OOS Date              42 non-null datetime64[ns]\n",
      "Account Type          42 non-null object\n",
      "Last Name             42 non-null object\n",
      "First Name            42 non-null object\n",
      "Middle Name           28 non-null object\n",
      "Address               42 non-null object\n",
      "City                  42 non-null object\n",
      "State                 42 non-null object\n",
      "Zip                   42 non-null object\n",
      "County                42 non-null object\n",
      "SSN                   42 non-null int64\n",
      "Home Phone            42 non-null int64\n",
      "Employer Phone        42 non-null int64\n",
      "Cycle                 42 non-null object\n",
      "Paid                  42 non-null int64\n",
      "dtypes: datetime64[ns](6), float64(4), int64(5), object(13)\n",
      "memory usage: 9.3+ KB\n"
     ]
    }
   ],
   "source": [
    "df.info()"
   ]
  },
  {
   "cell_type": "markdown",
   "metadata": {},
   "source": [
    "### Names are all capitals letters"
   ]
  },
  {
   "cell_type": "code",
   "execution_count": 4,
   "metadata": {},
   "outputs": [
    {
     "data": {
      "text/html": [
       "<div>\n",
       "<style scoped>\n",
       "    .dataframe tbody tr th:only-of-type {\n",
       "        vertical-align: middle;\n",
       "    }\n",
       "\n",
       "    .dataframe tbody tr th {\n",
       "        vertical-align: top;\n",
       "    }\n",
       "\n",
       "    .dataframe thead th {\n",
       "        text-align: right;\n",
       "    }\n",
       "</style>\n",
       "<table border=\"1\" class=\"dataframe\">\n",
       "  <thead>\n",
       "    <tr style=\"text-align: right;\">\n",
       "      <th></th>\n",
       "      <th>Last Name</th>\n",
       "      <th>First Name</th>\n",
       "      <th>Middle Name</th>\n",
       "    </tr>\n",
       "  </thead>\n",
       "  <tbody>\n",
       "    <tr>\n",
       "      <th>17</th>\n",
       "      <td>ANDY</td>\n",
       "      <td>HEIDI</td>\n",
       "      <td>J</td>\n",
       "    </tr>\n",
       "    <tr>\n",
       "      <th>36</th>\n",
       "      <td>ARAGON</td>\n",
       "      <td>OLIVIA</td>\n",
       "      <td>K</td>\n",
       "    </tr>\n",
       "    <tr>\n",
       "      <th>30</th>\n",
       "      <td>BALDWIN</td>\n",
       "      <td>TESSIE</td>\n",
       "      <td>M</td>\n",
       "    </tr>\n",
       "    <tr>\n",
       "      <th>16</th>\n",
       "      <td>BOURYAD</td>\n",
       "      <td>LOUBNA</td>\n",
       "      <td>NaN</td>\n",
       "    </tr>\n",
       "    <tr>\n",
       "      <th>41</th>\n",
       "      <td>BRYANT</td>\n",
       "      <td>JEFFREY</td>\n",
       "      <td>D</td>\n",
       "    </tr>\n",
       "  </tbody>\n",
       "</table>\n",
       "</div>"
      ],
      "text/plain": [
       "   Last Name First Name Middle Name\n",
       "17      ANDY      HEIDI           J\n",
       "36    ARAGON     OLIVIA           K\n",
       "30   BALDWIN     TESSIE           M\n",
       "16   BOURYAD     LOUBNA         NaN\n",
       "41    BRYANT    JEFFREY           D"
      ]
     },
     "execution_count": 4,
     "metadata": {},
     "output_type": "execute_result"
    }
   ],
   "source": [
    "cols = ['Last Name','First Name','Middle Name']\n",
    "df[cols].sort_values(cols).head()"
   ]
  },
  {
   "cell_type": "markdown",
   "metadata": {},
   "source": [
    "### Missing Data Evaluation\n",
    "- A large percentage of this data set is missing an employer phone number. Being employed might be an important thing if you want someone to repay a debt. This data will be filled in for live data as I will have assess to LexisNexis account and can retrieve that information.\n",
    "- Again with the live data having access to LexisNexis will give me the ability to fill-in missing middle names. For this project I won't attempt to fill in the missing data.\n",
    "- There are a number of missing home phone numbers might be an issue for collecting, but won't have an impact on the analysis.\n",
    "- There are 2 missing SSN's this won't have an impact the analysis."
   ]
  },
  {
   "cell_type": "code",
   "execution_count": 5,
   "metadata": {},
   "outputs": [
    {
     "data": {
      "text/html": [
       "<div>\n",
       "<style scoped>\n",
       "    .dataframe tbody tr th:only-of-type {\n",
       "        vertical-align: middle;\n",
       "    }\n",
       "\n",
       "    .dataframe tbody tr th {\n",
       "        vertical-align: top;\n",
       "    }\n",
       "\n",
       "    .dataframe thead th {\n",
       "        text-align: right;\n",
       "    }\n",
       "</style>\n",
       "<table border=\"1\" class=\"dataframe\">\n",
       "  <thead>\n",
       "    <tr style=\"text-align: right;\">\n",
       "      <th></th>\n",
       "      <th>Total</th>\n",
       "      <th>Percent</th>\n",
       "    </tr>\n",
       "  </thead>\n",
       "  <tbody>\n",
       "    <tr>\n",
       "      <th>Middle Name</th>\n",
       "      <td>14</td>\n",
       "      <td>0.333333</td>\n",
       "    </tr>\n",
       "    <tr>\n",
       "      <th>Last Pay Date</th>\n",
       "      <td>4</td>\n",
       "      <td>0.095238</td>\n",
       "    </tr>\n",
       "    <tr>\n",
       "      <th>Paid</th>\n",
       "      <td>0</td>\n",
       "      <td>0.000000</td>\n",
       "    </tr>\n",
       "    <tr>\n",
       "      <th>FCFRA Date</th>\n",
       "      <td>0</td>\n",
       "      <td>0.000000</td>\n",
       "    </tr>\n",
       "    <tr>\n",
       "      <th>PortID</th>\n",
       "      <td>0</td>\n",
       "      <td>0.000000</td>\n",
       "    </tr>\n",
       "    <tr>\n",
       "      <th>Remaining Balance</th>\n",
       "      <td>0</td>\n",
       "      <td>0.000000</td>\n",
       "    </tr>\n",
       "    <tr>\n",
       "      <th>interests Fees</th>\n",
       "      <td>0</td>\n",
       "      <td>0.000000</td>\n",
       "    </tr>\n",
       "    <tr>\n",
       "      <th>Date Opened</th>\n",
       "      <td>0</td>\n",
       "      <td>0.000000</td>\n",
       "    </tr>\n",
       "    <tr>\n",
       "      <th>Charge Off Date</th>\n",
       "      <td>0</td>\n",
       "      <td>0.000000</td>\n",
       "    </tr>\n",
       "    <tr>\n",
       "      <th>Last Pay Amount</th>\n",
       "      <td>0</td>\n",
       "      <td>0.000000</td>\n",
       "    </tr>\n",
       "    <tr>\n",
       "      <th>Last Activity Date</th>\n",
       "      <td>0</td>\n",
       "      <td>0.000000</td>\n",
       "    </tr>\n",
       "    <tr>\n",
       "      <th>Interest Rate %</th>\n",
       "      <td>0</td>\n",
       "      <td>0.000000</td>\n",
       "    </tr>\n",
       "    <tr>\n",
       "      <th>Issuer</th>\n",
       "      <td>0</td>\n",
       "      <td>0.000000</td>\n",
       "    </tr>\n",
       "    <tr>\n",
       "      <th>Merchant</th>\n",
       "      <td>0</td>\n",
       "      <td>0.000000</td>\n",
       "    </tr>\n",
       "    <tr>\n",
       "      <th>OOS Date</th>\n",
       "      <td>0</td>\n",
       "      <td>0.000000</td>\n",
       "    </tr>\n",
       "    <tr>\n",
       "      <th>Cycle</th>\n",
       "      <td>0</td>\n",
       "      <td>0.000000</td>\n",
       "    </tr>\n",
       "    <tr>\n",
       "      <th>Account Type</th>\n",
       "      <td>0</td>\n",
       "      <td>0.000000</td>\n",
       "    </tr>\n",
       "    <tr>\n",
       "      <th>Last Name</th>\n",
       "      <td>0</td>\n",
       "      <td>0.000000</td>\n",
       "    </tr>\n",
       "    <tr>\n",
       "      <th>First Name</th>\n",
       "      <td>0</td>\n",
       "      <td>0.000000</td>\n",
       "    </tr>\n",
       "    <tr>\n",
       "      <th>Address</th>\n",
       "      <td>0</td>\n",
       "      <td>0.000000</td>\n",
       "    </tr>\n",
       "    <tr>\n",
       "      <th>City</th>\n",
       "      <td>0</td>\n",
       "      <td>0.000000</td>\n",
       "    </tr>\n",
       "    <tr>\n",
       "      <th>State</th>\n",
       "      <td>0</td>\n",
       "      <td>0.000000</td>\n",
       "    </tr>\n",
       "    <tr>\n",
       "      <th>Zip</th>\n",
       "      <td>0</td>\n",
       "      <td>0.000000</td>\n",
       "    </tr>\n",
       "    <tr>\n",
       "      <th>County</th>\n",
       "      <td>0</td>\n",
       "      <td>0.000000</td>\n",
       "    </tr>\n",
       "    <tr>\n",
       "      <th>SSN</th>\n",
       "      <td>0</td>\n",
       "      <td>0.000000</td>\n",
       "    </tr>\n",
       "    <tr>\n",
       "      <th>Home Phone</th>\n",
       "      <td>0</td>\n",
       "      <td>0.000000</td>\n",
       "    </tr>\n",
       "    <tr>\n",
       "      <th>Employer Phone</th>\n",
       "      <td>0</td>\n",
       "      <td>0.000000</td>\n",
       "    </tr>\n",
       "    <tr>\n",
       "      <th>Account Number</th>\n",
       "      <td>0</td>\n",
       "      <td>0.000000</td>\n",
       "    </tr>\n",
       "  </tbody>\n",
       "</table>\n",
       "</div>"
      ],
      "text/plain": [
       "                    Total   Percent\n",
       "Middle Name            14  0.333333\n",
       "Last Pay Date           4  0.095238\n",
       "Paid                    0  0.000000\n",
       "FCFRA Date              0  0.000000\n",
       "PortID                  0  0.000000\n",
       "Remaining Balance       0  0.000000\n",
       "interests Fees          0  0.000000\n",
       "Date Opened             0  0.000000\n",
       "Charge Off Date         0  0.000000\n",
       "Last Pay Amount         0  0.000000\n",
       "Last Activity Date      0  0.000000\n",
       "Interest Rate %         0  0.000000\n",
       "Issuer                  0  0.000000\n",
       "Merchant                0  0.000000\n",
       "OOS Date                0  0.000000\n",
       "Cycle                   0  0.000000\n",
       "Account Type            0  0.000000\n",
       "Last Name               0  0.000000\n",
       "First Name              0  0.000000\n",
       "Address                 0  0.000000\n",
       "City                    0  0.000000\n",
       "State                   0  0.000000\n",
       "Zip                     0  0.000000\n",
       "County                  0  0.000000\n",
       "SSN                     0  0.000000\n",
       "Home Phone              0  0.000000\n",
       "Employer Phone          0  0.000000\n",
       "Account Number          0  0.000000"
      ]
     },
     "execution_count": 5,
     "metadata": {},
     "output_type": "execute_result"
    }
   ],
   "source": [
    "total = df.isnull().sum().sort_values(ascending=False)\n",
    "percent = (df.isnull().sum()/df.isnull().count()).sort_values(ascending=False)\n",
    "missing_data = pd.concat([total, percent], axis=1, keys=['Total', 'Percent'])\n",
    "missing_data"
   ]
  },
  {
   "cell_type": "markdown",
   "metadata": {},
   "source": [
    "## What was the ROI for this protfolio?"
   ]
  },
  {
   "cell_type": "code",
   "execution_count": 6,
   "metadata": {},
   "outputs": [
    {
     "name": "stdout",
     "output_type": "stream",
     "text": [
      "Total debt 182222.36\n",
      "Cost per dollar of debt 0.03\n",
      "Rate of return 499.85%\n"
     ]
    }
   ],
   "source": [
    "print(\"Total debt {0:.2f}\".format(math.fsum(df['Remaining Balance'])))\n",
    "\n",
    "print(\"Cost per dollar of debt {0:.2f}\".format(6000/math.fsum(df['Remaining Balance'])))\n",
    "\n",
    "# Below are the amounts collected from the bundles\n",
    "print(\"Rate of return {0:.2f}%\".format(((571.54 + 2135.20 + 984.34 + 25500.00 + 800.00)/6000) * 100))"
   ]
  },
  {
   "cell_type": "markdown",
   "metadata": {},
   "source": [
    "## Looking at the people that took the deal and paid"
   ]
  },
  {
   "cell_type": "code",
   "execution_count": 8,
   "metadata": {},
   "outputs": [
    {
     "data": {
      "text/html": [
       "<div>\n",
       "<style scoped>\n",
       "    .dataframe tbody tr th:only-of-type {\n",
       "        vertical-align: middle;\n",
       "    }\n",
       "\n",
       "    .dataframe tbody tr th {\n",
       "        vertical-align: top;\n",
       "    }\n",
       "\n",
       "    .dataframe thead th {\n",
       "        text-align: right;\n",
       "    }\n",
       "</style>\n",
       "<table border=\"1\" class=\"dataframe\">\n",
       "  <thead>\n",
       "    <tr style=\"text-align: right;\">\n",
       "      <th></th>\n",
       "      <th>Remaining Balance</th>\n",
       "      <th>interests Fees</th>\n",
       "    </tr>\n",
       "  </thead>\n",
       "  <tbody>\n",
       "    <tr>\n",
       "      <th>11</th>\n",
       "      <td>464.17</td>\n",
       "      <td>95.68</td>\n",
       "    </tr>\n",
       "    <tr>\n",
       "      <th>20</th>\n",
       "      <td>776.40</td>\n",
       "      <td>170.71</td>\n",
       "    </tr>\n",
       "    <tr>\n",
       "      <th>36</th>\n",
       "      <td>1566.15</td>\n",
       "      <td>253.32</td>\n",
       "    </tr>\n",
       "    <tr>\n",
       "      <th>19</th>\n",
       "      <td>1598.10</td>\n",
       "      <td>258.49</td>\n",
       "    </tr>\n",
       "    <tr>\n",
       "      <th>23</th>\n",
       "      <td>11471.81</td>\n",
       "      <td>15345.69</td>\n",
       "    </tr>\n",
       "  </tbody>\n",
       "</table>\n",
       "</div>"
      ],
      "text/plain": [
       "    Remaining Balance  interests Fees\n",
       "11             464.17           95.68\n",
       "20             776.40          170.71\n",
       "36            1566.15          253.32\n",
       "19            1598.10          258.49\n",
       "23           11471.81        15345.69"
      ]
     },
     "execution_count": 8,
     "metadata": {},
     "output_type": "execute_result"
    }
   ],
   "source": [
    "mask = df['Paid'] == 1\n",
    "df[mask][['Remaining Balance','interests Fees']].sort_values(by='Remaining Balance',ascending=True)"
   ]
  },
  {
   "cell_type": "markdown",
   "metadata": {},
   "source": [
    "## Are the features Correlated?\n",
    "This didn't yield anything that wasn't already suspected. The \"Last Pay Amount\" and \"Remaining Balance\" where correlated. Also, \"Interest Rate\" and \"interests Fees\" had a correlation."
   ]
  },
  {
   "cell_type": "code",
   "execution_count": 9,
   "metadata": {},
   "outputs": [
    {
     "data": {
      "text/plain": [
       "[Text(0, 0.5, 'Account Number'),\n",
       " Text(0, 1.5, 'Remaining Balance'),\n",
       " Text(0, 2.5, 'interests Fees'),\n",
       " Text(0, 3.5, 'Last Pay Amount'),\n",
       " Text(0, 4.5, 'Interest Rate %'),\n",
       " Text(0, 5.5, 'SSN'),\n",
       " Text(0, 6.5, 'Home Phone'),\n",
       " Text(0, 7.5, 'Employer Phone'),\n",
       " Text(0, 8.5, 'Paid')]"
      ]
     },
     "execution_count": 9,
     "metadata": {},
     "output_type": "execute_result"
    },
    {
     "data": {
      "image/png": "[encoded data removed]",
      "text/plain": [
       "<Figure size 720x504 with 2 Axes>"
      ]
     },
     "metadata": {
      "image/png": {
       "height": 523,
       "width": 661
      }
     },
     "output_type": "display_data"
    }
   ],
   "source": [
    "df_corr = df.corr()\n",
    "\n",
    "# Set the default matplotlib figure size to 7x7:\n",
    "fix, ax = plt.subplots(figsize=(10,7))\n",
    "\n",
    "# Generate a mask for the upper triangle (taken from seaborn example gallery)\n",
    "mask = np.zeros_like(df_corr, dtype=np.bool)\n",
    "mask[np.triu_indices_from(mask)] = True\n",
    "\n",
    "# Plot the heatmap with seaborn.\n",
    "# Assign the matplotlib axis the function returns. This will let us resize the labels.\n",
    "ax = sns.heatmap(df_corr, mask=mask, ax=ax, annot=False)\n",
    "\n",
    "# Resize the labels.\n",
    "ax.set_xticklabels(ax.xaxis.get_ticklabels(), fontsize=14)\n",
    "ax.set_yticklabels(ax.yaxis.get_ticklabels(), fontsize=14)"
   ]
  },
  {
   "cell_type": "code",
   "execution_count": null,
   "metadata": {},
   "outputs": [],
   "source": []
  }
 ],
 "metadata": {
  "kernelspec": {
   "display_name": "Python 3",
   "language": "python",
   "name": "python3"
  },
  "language_info": {
   "codemirror_mode": {
    "name": "ipython",
    "version": 3
   },
   "file_extension": ".py",
   "mimetype": "text/x-python",
   "name": "python",
   "nbconvert_exporter": "python",
   "pygments_lexer": "ipython3",
   "version": "3.6.5"
  }
 },
 "nbformat": 4,
 "nbformat_minor": 2
}
